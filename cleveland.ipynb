{
 "cells": [
  {
   "cell_type": "code",
   "execution_count": 1,
   "metadata": {},
   "outputs": [],
   "source": [
    "import warnings\n",
    "warnings.filterwarnings('ignore')"
   ]
  },
  {
   "cell_type": "code",
   "execution_count": 2,
   "metadata": {},
   "outputs": [],
   "source": [
    "import numpy as np\n",
    "import pandas as pd\n",
    "\n",
    "import matplotlib.pyplot as plt\n",
    "import seaborn as sns"
   ]
  },
  {
   "cell_type": "code",
   "execution_count": 3,
   "metadata": {},
   "outputs": [],
   "source": [
    "feature=[\"age\",\"sex\",\"cp\",\"trestbps\",\"chol\",\"fbs\",\"restecg\",\"thalach\",\"exang\",\"oldpeak\",\"slope\",\"ca\",\"thal\",\"target\"]"
   ]
  },
  {
   "cell_type": "code",
   "execution_count": 4,
   "metadata": {},
   "outputs": [],
   "source": [
    "# load data\n",
    "data  = pd.read_csv('heart+disease/processed.cleveland.data', sep=\",\",names=feature)"
   ]
  },
  {
   "cell_type": "code",
   "execution_count": 5,
   "metadata": {},
   "outputs": [
    {
     "data": {
      "text/html": [
       "<div>\n",
       "<style scoped>\n",
       "    .dataframe tbody tr th:only-of-type {\n",
       "        vertical-align: middle;\n",
       "    }\n",
       "\n",
       "    .dataframe tbody tr th {\n",
       "        vertical-align: top;\n",
       "    }\n",
       "\n",
       "    .dataframe thead th {\n",
       "        text-align: right;\n",
       "    }\n",
       "</style>\n",
       "<table border=\"1\" class=\"dataframe\">\n",
       "  <thead>\n",
       "    <tr style=\"text-align: right;\">\n",
       "      <th></th>\n",
       "      <th>age</th>\n",
       "      <th>sex</th>\n",
       "      <th>cp</th>\n",
       "      <th>trestbps</th>\n",
       "      <th>chol</th>\n",
       "      <th>fbs</th>\n",
       "      <th>restecg</th>\n",
       "      <th>thalach</th>\n",
       "      <th>exang</th>\n",
       "      <th>oldpeak</th>\n",
       "      <th>slope</th>\n",
       "      <th>ca</th>\n",
       "      <th>thal</th>\n",
       "      <th>target</th>\n",
       "    </tr>\n",
       "  </thead>\n",
       "  <tbody>\n",
       "    <tr>\n",
       "      <th>0</th>\n",
       "      <td>63.0</td>\n",
       "      <td>1.0</td>\n",
       "      <td>1.0</td>\n",
       "      <td>145.0</td>\n",
       "      <td>233.0</td>\n",
       "      <td>1.0</td>\n",
       "      <td>2.0</td>\n",
       "      <td>150.0</td>\n",
       "      <td>0.0</td>\n",
       "      <td>2.3</td>\n",
       "      <td>3.0</td>\n",
       "      <td>0.0</td>\n",
       "      <td>6.0</td>\n",
       "      <td>0</td>\n",
       "    </tr>\n",
       "    <tr>\n",
       "      <th>1</th>\n",
       "      <td>67.0</td>\n",
       "      <td>1.0</td>\n",
       "      <td>4.0</td>\n",
       "      <td>160.0</td>\n",
       "      <td>286.0</td>\n",
       "      <td>0.0</td>\n",
       "      <td>2.0</td>\n",
       "      <td>108.0</td>\n",
       "      <td>1.0</td>\n",
       "      <td>1.5</td>\n",
       "      <td>2.0</td>\n",
       "      <td>3.0</td>\n",
       "      <td>3.0</td>\n",
       "      <td>2</td>\n",
       "    </tr>\n",
       "    <tr>\n",
       "      <th>2</th>\n",
       "      <td>67.0</td>\n",
       "      <td>1.0</td>\n",
       "      <td>4.0</td>\n",
       "      <td>120.0</td>\n",
       "      <td>229.0</td>\n",
       "      <td>0.0</td>\n",
       "      <td>2.0</td>\n",
       "      <td>129.0</td>\n",
       "      <td>1.0</td>\n",
       "      <td>2.6</td>\n",
       "      <td>2.0</td>\n",
       "      <td>2.0</td>\n",
       "      <td>7.0</td>\n",
       "      <td>1</td>\n",
       "    </tr>\n",
       "    <tr>\n",
       "      <th>3</th>\n",
       "      <td>37.0</td>\n",
       "      <td>1.0</td>\n",
       "      <td>3.0</td>\n",
       "      <td>130.0</td>\n",
       "      <td>250.0</td>\n",
       "      <td>0.0</td>\n",
       "      <td>0.0</td>\n",
       "      <td>187.0</td>\n",
       "      <td>0.0</td>\n",
       "      <td>3.5</td>\n",
       "      <td>3.0</td>\n",
       "      <td>0.0</td>\n",
       "      <td>3.0</td>\n",
       "      <td>0</td>\n",
       "    </tr>\n",
       "    <tr>\n",
       "      <th>4</th>\n",
       "      <td>41.0</td>\n",
       "      <td>0.0</td>\n",
       "      <td>2.0</td>\n",
       "      <td>130.0</td>\n",
       "      <td>204.0</td>\n",
       "      <td>0.0</td>\n",
       "      <td>2.0</td>\n",
       "      <td>172.0</td>\n",
       "      <td>0.0</td>\n",
       "      <td>1.4</td>\n",
       "      <td>1.0</td>\n",
       "      <td>0.0</td>\n",
       "      <td>3.0</td>\n",
       "      <td>0</td>\n",
       "    </tr>\n",
       "  </tbody>\n",
       "</table>\n",
       "</div>"
      ],
      "text/plain": [
       "    age  sex   cp  trestbps   chol  fbs  restecg  thalach  exang  oldpeak  \\\n",
       "0  63.0  1.0  1.0     145.0  233.0  1.0      2.0    150.0    0.0      2.3   \n",
       "1  67.0  1.0  4.0     160.0  286.0  0.0      2.0    108.0    1.0      1.5   \n",
       "2  67.0  1.0  4.0     120.0  229.0  0.0      2.0    129.0    1.0      2.6   \n",
       "3  37.0  1.0  3.0     130.0  250.0  0.0      0.0    187.0    0.0      3.5   \n",
       "4  41.0  0.0  2.0     130.0  204.0  0.0      2.0    172.0    0.0      1.4   \n",
       "\n",
       "   slope   ca thal  target  \n",
       "0    3.0  0.0  6.0       0  \n",
       "1    2.0  3.0  3.0       2  \n",
       "2    2.0  2.0  7.0       1  \n",
       "3    3.0  0.0  3.0       0  \n",
       "4    1.0  0.0  3.0       0  "
      ]
     },
     "execution_count": 5,
     "metadata": {},
     "output_type": "execute_result"
    }
   ],
   "source": [
    "data.head()"
   ]
  },
  {
   "cell_type": "code",
   "execution_count": 6,
   "metadata": {},
   "outputs": [
    {
     "data": {
      "text/plain": [
       "(303, 14)"
      ]
     },
     "execution_count": 6,
     "metadata": {},
     "output_type": "execute_result"
    }
   ],
   "source": [
    "data.shape"
   ]
  },
  {
   "cell_type": "code",
   "execution_count": 7,
   "metadata": {},
   "outputs": [
    {
     "name": "stdout",
     "output_type": "stream",
     "text": [
      "<class 'pandas.core.frame.DataFrame'>\n",
      "RangeIndex: 303 entries, 0 to 302\n",
      "Data columns (total 14 columns):\n",
      "age         303 non-null float64\n",
      "sex         303 non-null float64\n",
      "cp          303 non-null float64\n",
      "trestbps    303 non-null float64\n",
      "chol        303 non-null float64\n",
      "fbs         303 non-null float64\n",
      "restecg     303 non-null float64\n",
      "thalach     303 non-null float64\n",
      "exang       303 non-null float64\n",
      "oldpeak     303 non-null float64\n",
      "slope       303 non-null float64\n",
      "ca          303 non-null object\n",
      "thal        303 non-null object\n",
      "target      303 non-null int64\n",
      "dtypes: float64(11), int64(1), object(2)\n",
      "memory usage: 33.3+ KB\n"
     ]
    }
   ],
   "source": [
    "data.info()"
   ]
  },
  {
   "cell_type": "code",
   "execution_count": 8,
   "metadata": {},
   "outputs": [],
   "source": [
    "data = data.replace({'?':np.NaN})"
   ]
  },
  {
   "cell_type": "code",
   "execution_count": 9,
   "metadata": {},
   "outputs": [],
   "source": [
    "data = data.dropna()"
   ]
  },
  {
   "cell_type": "code",
   "execution_count": 10,
   "metadata": {},
   "outputs": [
    {
     "name": "stdout",
     "output_type": "stream",
     "text": [
      "<class 'pandas.core.frame.DataFrame'>\n",
      "Int64Index: 297 entries, 0 to 301\n",
      "Data columns (total 14 columns):\n",
      "age         297 non-null float64\n",
      "sex         297 non-null float64\n",
      "cp          297 non-null float64\n",
      "trestbps    297 non-null float64\n",
      "chol        297 non-null float64\n",
      "fbs         297 non-null float64\n",
      "restecg     297 non-null float64\n",
      "thalach     297 non-null float64\n",
      "exang       297 non-null float64\n",
      "oldpeak     297 non-null float64\n",
      "slope       297 non-null float64\n",
      "ca          297 non-null object\n",
      "thal        297 non-null object\n",
      "target      297 non-null int64\n",
      "dtypes: float64(11), int64(1), object(2)\n",
      "memory usage: 34.8+ KB\n"
     ]
    }
   ],
   "source": [
    "data.info()"
   ]
  },
  {
   "cell_type": "code",
   "execution_count": 11,
   "metadata": {},
   "outputs": [
    {
     "data": {
      "text/plain": [
       "array([1, 0, 2], dtype=int64)"
      ]
     },
     "execution_count": 11,
     "metadata": {},
     "output_type": "execute_result"
    }
   ],
   "source": [
    "# Import label encoder\n",
    "from sklearn import preprocessing\n",
    "\n",
    "# label_encoder object knows\n",
    "# how to understand word labels.\n",
    "label_encoder = preprocessing.LabelEncoder()\n",
    "\n",
    "# Encode labels in column 'species'.\n",
    "data['ca']= label_encoder.fit_transform(data['ca'])\n",
    "data['thal']= label_encoder.fit_transform(data['thal'])\n",
    "\n",
    "data['ca'].unique()\n",
    "data['thal'].unique()"
   ]
  },
  {
   "cell_type": "code",
   "execution_count": 12,
   "metadata": {},
   "outputs": [
    {
     "data": {
      "image/png": "[encoded data removed]",
      "text/plain": [
       "<Figure size 288x288 with 1 Axes>"
      ]
     },
     "metadata": {
      "needs_background": "light"
     },
     "output_type": "display_data"
    }
   ],
   "source": [
    "import matplotlib.pyplot as plt\n",
    "\n",
    "plt.matshow(data.corr())\n",
    "plt.show()"
   ]
  },
  {
   "cell_type": "code",
   "execution_count": 13,
   "metadata": {},
   "outputs": [],
   "source": [
    "# changing attack labels to their respective attack class\n",
    "def change_label(df):\n",
    "  df.target.replace([1,2,3,4],1,inplace=True)"
   ]
  },
  {
   "cell_type": "code",
   "execution_count": 14,
   "metadata": {},
   "outputs": [],
   "source": [
    "change_label(data)"
   ]
  },
  {
   "cell_type": "code",
   "execution_count": 15,
   "metadata": {},
   "outputs": [
    {
     "data": {
      "image/png": "[encoded data removed]",
      "text/plain": [
       "<Figure size 432x288 with 1 Axes>"
      ]
     },
     "metadata": {
      "needs_background": "light"
     },
     "output_type": "display_data"
    }
   ],
   "source": [
    "data.target.value_counts().plot(kind='bar',color=['red','green']);"
   ]
  },
  {
   "cell_type": "code",
   "execution_count": 16,
   "metadata": {},
   "outputs": [
    {
     "data": {
      "text/plain": [
       "Index(['age', 'sex', 'cp', 'trestbps', 'chol', 'fbs', 'restecg', 'thalach',\n",
       "       'exang', 'oldpeak', 'slope', 'ca', 'thal', 'target'],\n",
       "      dtype='object')"
      ]
     },
     "execution_count": 16,
     "metadata": {},
     "output_type": "execute_result"
    }
   ],
   "source": [
    "data.columns"
   ]
  },
  {
   "cell_type": "code",
   "execution_count": 17,
   "metadata": {},
   "outputs": [],
   "source": [
    "data.to_csv('cleveland_processed.csv')"
   ]
  },
  {
   "cell_type": "code",
   "execution_count": 18,
   "metadata": {},
   "outputs": [],
   "source": [
    "X = data.drop([\"target\"],axis =1)\n",
    "y = data[\"target\"]"
   ]
  },
  {
   "cell_type": "code",
   "execution_count": 19,
   "metadata": {},
   "outputs": [],
   "source": [
    "from sklearn.metrics import accuracy_score # for calculating accuracy of model\n",
    "from sklearn.model_selection import train_test_split # for splitting the dataset for training and testing\n",
    "from sklearn.metrics import classification_report # for generating a classification report of model\n",
    "\n",
    "from sklearn.metrics import precision_score\n",
    "from sklearn.metrics import recall_score\n",
    "from sklearn.metrics import f1_score"
   ]
  },
  {
   "cell_type": "code",
   "execution_count": 20,
   "metadata": {},
   "outputs": [],
   "source": [
    "from imblearn.metrics import specificity_score, sensitivity_score"
   ]
  },
  {
   "cell_type": "code",
   "execution_count": 21,
   "metadata": {},
   "outputs": [],
   "source": [
    "# splitting the dataset 80% for training and 20% testing\n",
    "X_train, X_test, y_train, y_test = train_test_split(X,y, test_size=0.10, random_state=42)"
   ]
  },
  {
   "cell_type": "code",
   "execution_count": 22,
   "metadata": {},
   "outputs": [],
   "source": [
    "ML_Model = []\n",
    "accuracy = []\n",
    "precision = []\n",
    "recall = []\n",
    "f1score = []\n",
    "spec = []\n",
    "sens = []\n",
    "\n",
    "#function to call for storing the results\n",
    "def storeResults(model, a,b,c,d,e,f):\n",
    "    ML_Model.append(model)\n",
    "    accuracy.append(round(a, 3))\n",
    "    precision.append(round(b, 3))\n",
    "    recall.append(round(c, 3))\n",
    "    f1score.append(round(d, 3))\n",
    "    spec.append(round(e,3))\n",
    "    sens.append(round(f,3))"
   ]
  },
  {
   "cell_type": "code",
   "execution_count": 23,
   "metadata": {},
   "outputs": [],
   "source": [
    "ML_Model1 = []\n",
    "accuracy1 = []\n",
    "precision1 = []\n",
    "recall1 = []\n",
    "f1score1 = []\n",
    "spec1 = []\n",
    "sens1 = []\n",
    "\n",
    "#function to call for storing the results\n",
    "def storeResults1(model, a,b,c,d,e,f):\n",
    "    ML_Model1.append(model)\n",
    "    accuracy1.append(round(a, 3))\n",
    "    precision1.append(round(b, 3))\n",
    "    recall1.append(round(c, 3))\n",
    "    f1score1.append(round(d, 3))\n",
    "    spec1.append(round(e,3))\n",
    "    sens1.append(round(f,3))"
   ]
  },
  {
   "cell_type": "markdown",
   "metadata": {},
   "source": [
    "# Modelling"
   ]
  },
  {
   "cell_type": "markdown",
   "metadata": {},
   "source": [
    "# KNN"
   ]
  },
  {
   "cell_type": "code",
   "execution_count": 24,
   "metadata": {},
   "outputs": [],
   "source": [
    "from sklearn.neighbors import KNeighborsClassifier\n",
    "knn = KNeighborsClassifier(n_neighbors=3)\n",
    "knn.fit(X_train, y_train)\n",
    "\n",
    "y_pred    = knn.predict(X_test)\n",
    "\n",
    "knn_acc = accuracy_score(y_pred, y_test)\n",
    "knn_prec = precision_score(y_pred, y_test,average='weighted')\n",
    "knn_rec = recall_score(y_pred, y_test,average='weighted')\n",
    "knn_f1 = f1_score(y_pred, y_test,average='weighted')\n",
    "knn_spec = specificity_score(y_pred, y_test,average='weighted')\n",
    "knn_sens = sensitivity_score(y_pred, y_test,average='weighted')"
   ]
  },
  {
   "cell_type": "code",
   "execution_count": 25,
   "metadata": {},
   "outputs": [],
   "source": [
    "storeResults('KNN',knn_acc,knn_prec,knn_rec,knn_f1,knn_spec,knn_sens)"
   ]
  },
  {
   "cell_type": "markdown",
   "metadata": {},
   "source": [
    "# Linear SVC"
   ]
  },
  {
   "cell_type": "code",
   "execution_count": 26,
   "metadata": {},
   "outputs": [],
   "source": [
    "from sklearn.svm import LinearSVC\n",
    "lsvc = LinearSVC(random_state=0, tol=1e-5)\n",
    "lsvc.fit(X_train, y_train)\n",
    "\n",
    "y_pred    = lsvc.predict(X_test)\n",
    "\n",
    "lsvc_acc = accuracy_score(y_pred, y_test)\n",
    "lsvc_prec = precision_score(y_pred, y_test,average='weighted')\n",
    "lsvc_rec = recall_score(y_pred, y_test,average='weighted')\n",
    "lsvc_f1 = f1_score(y_pred, y_test,average='weighted')\n",
    "lsvc_spec = specificity_score(y_pred, y_test,average='weighted')\n",
    "lsvc_sens = sensitivity_score(y_pred, y_test,average='weighted')"
   ]
  },
  {
   "cell_type": "code",
   "execution_count": 27,
   "metadata": {},
   "outputs": [],
   "source": [
    "storeResults('LinearSVC',lsvc_acc,lsvc_prec,lsvc_rec,lsvc_f1,lsvc_spec,lsvc_sens)"
   ]
  },
  {
   "cell_type": "markdown",
   "metadata": {},
   "source": [
    "# Gaussian Process"
   ]
  },
  {
   "cell_type": "code",
   "execution_count": 28,
   "metadata": {},
   "outputs": [],
   "source": [
    "from sklearn.gaussian_process import GaussianProcessClassifier\n",
    "from sklearn.gaussian_process.kernels import RBF\n",
    "\n",
    "kernel = 1.0 * RBF(1.0)\n",
    "\n",
    "gp = GaussianProcessClassifier(kernel=kernel,random_state=0)\n",
    "gp.fit(X_train, y_train)\n",
    "\n",
    "y_pred    = gp.predict(X_test)\n",
    "\n",
    "gp_acc = accuracy_score(y_pred, y_test)\n",
    "gp_prec = precision_score(y_pred, y_test,average='weighted')\n",
    "gp_rec = recall_score(y_pred, y_test,average='weighted')\n",
    "gp_f1 = f1_score(y_pred, y_test,average='weighted')\n",
    "gp_spec = specificity_score(y_pred, y_test,average='weighted')\n",
    "gp_sens = sensitivity_score(y_pred, y_test,average='weighted')"
   ]
  },
  {
   "cell_type": "code",
   "execution_count": 29,
   "metadata": {},
   "outputs": [],
   "source": [
    "storeResults('Guassian Process',gp_acc,gp_prec,gp_rec,gp_f1,gp_spec,gp_sens)"
   ]
  },
  {
   "cell_type": "markdown",
   "metadata": {},
   "source": [
    "# Decision Tree"
   ]
  },
  {
   "cell_type": "code",
   "execution_count": 30,
   "metadata": {},
   "outputs": [],
   "source": [
    "from sklearn.tree import DecisionTreeClassifier\n",
    "tree = DecisionTreeClassifier(random_state=1000)\n",
    "\n",
    "tree.fit(X_train, y_train)\n",
    "\n",
    "y_pred    = tree.predict(X_test)\n",
    "\n",
    "dt_acc = accuracy_score(y_pred, y_test)\n",
    "dt_prec = precision_score(y_pred, y_test,average='weighted')\n",
    "dt_rec = recall_score(y_pred, y_test,average='weighted')\n",
    "dt_f1 = f1_score(y_pred, y_test,average='weighted')\n",
    "dt_spec = specificity_score(y_pred, y_test,average='weighted')\n",
    "dt_sens = sensitivity_score(y_pred, y_test,average='weighted')"
   ]
  },
  {
   "cell_type": "code",
   "execution_count": 31,
   "metadata": {},
   "outputs": [],
   "source": [
    "storeResults('Decision Tree',dt_acc,dt_prec,dt_rec,dt_f1,dt_spec,dt_sens)"
   ]
  },
  {
   "cell_type": "markdown",
   "metadata": {},
   "source": [
    "# Naive Bayes"
   ]
  },
  {
   "cell_type": "code",
   "execution_count": 32,
   "metadata": {},
   "outputs": [],
   "source": [
    "from sklearn.naive_bayes import GaussianNB\n",
    "nb = GaussianNB()\n",
    "\n",
    "nb.fit(X_train, y_train)\n",
    "\n",
    "y_pred    = nb.predict(X_test)\n",
    "\n",
    "nb_acc = accuracy_score(y_pred, y_test)\n",
    "nb_prec = precision_score(y_pred, y_test,average='weighted')\n",
    "nb_rec = recall_score(y_pred, y_test,average='weighted')\n",
    "nb_f1 = f1_score(y_pred, y_test,average='weighted')\n",
    "nb_spec = specificity_score(y_pred, y_test,average='weighted')\n",
    "nb_sens = sensitivity_score(y_pred, y_test,average='weighted')"
   ]
  },
  {
   "cell_type": "code",
   "execution_count": 33,
   "metadata": {},
   "outputs": [],
   "source": [
    "storeResults('Naive Bayes',nb_acc,nb_prec,nb_rec,nb_f1,nb_spec,nb_sens)"
   ]
  },
  {
   "cell_type": "markdown",
   "metadata": {},
   "source": [
    "# QDA"
   ]
  },
  {
   "cell_type": "code",
   "execution_count": 34,
   "metadata": {},
   "outputs": [],
   "source": [
    "from sklearn.discriminant_analysis import QuadraticDiscriminantAnalysis\n",
    "qda = QuadraticDiscriminantAnalysis()\n",
    "\n",
    "qda.fit(X_train, y_train)\n",
    "\n",
    "y_pred    = qda.predict(X_test)\n",
    "\n",
    "qda_acc = accuracy_score(y_pred, y_test)\n",
    "qda_prec = precision_score(y_pred, y_test,average='weighted')\n",
    "qda_rec = recall_score(y_pred, y_test,average='weighted')\n",
    "qda_f1 = f1_score(y_pred, y_test,average='weighted')\n",
    "qda_spec = specificity_score(y_pred, y_test,average='weighted')\n",
    "qda_sens = sensitivity_score(y_pred, y_test,average='weighted')"
   ]
  },
  {
   "cell_type": "code",
   "execution_count": 35,
   "metadata": {},
   "outputs": [],
   "source": [
    "storeResults('QDA',qda_acc,qda_prec,qda_rec,qda_f1,qda_spec,qda_sens)"
   ]
  },
  {
   "cell_type": "markdown",
   "metadata": {},
   "source": [
    "# AdaBoost"
   ]
  },
  {
   "cell_type": "code",
   "execution_count": 36,
   "metadata": {},
   "outputs": [],
   "source": [
    "from sklearn.ensemble import AdaBoostClassifier\n",
    "ab = AdaBoostClassifier(n_estimators=100, random_state=0)\n",
    "\n",
    "ab.fit(X_train, y_train)\n",
    "\n",
    "y_pred    = ab.predict(X_test)\n",
    "\n",
    "ab_acc = accuracy_score(y_pred, y_test)\n",
    "ab_prec = precision_score(y_pred, y_test,average='weighted')\n",
    "ab_rec = recall_score(y_pred, y_test,average='weighted')\n",
    "ab_f1 = f1_score(y_pred, y_test,average='weighted')\n",
    "ab_spec = specificity_score(y_pred, y_test,average='weighted')\n",
    "ab_sens = sensitivity_score(y_pred, y_test,average='weighted')"
   ]
  },
  {
   "cell_type": "code",
   "execution_count": 37,
   "metadata": {},
   "outputs": [],
   "source": [
    "storeResults('AdaBoost',ab_acc,ab_prec,ab_rec,ab_f1,ab_spec,ab_sens)"
   ]
  },
  {
   "cell_type": "markdown",
   "metadata": {},
   "source": [
    "# Bagging Classifier"
   ]
  },
  {
   "cell_type": "code",
   "execution_count": 38,
   "metadata": {},
   "outputs": [],
   "source": [
    "from sklearn.ensemble import BaggingClassifier\n",
    "clf = BaggingClassifier(DecisionTreeClassifier(random_state=42),n_estimators=10, random_state=0)\n",
    "clf.fit(X_train, y_train)\n",
    "\n",
    "y_pred    = clf.predict(X_test)\n",
    "bg_acc = accuracy_score(y_pred, y_test)\n",
    "bg_prec = precision_score(y_pred, y_test,average='weighted')\n",
    "bg_rec = recall_score(y_pred, y_test,average='weighted')\n",
    "bg_f1 = f1_score(y_pred, y_test,average='weighted')\n",
    "bg_spec = specificity_score(y_pred, y_test,average='weighted')\n",
    "bg_sens = sensitivity_score(y_pred, y_test,average='weighted')"
   ]
  },
  {
   "cell_type": "code",
   "execution_count": 39,
   "metadata": {},
   "outputs": [],
   "source": [
    "storeResults('Bagging',bg_acc,bg_prec,bg_rec,bg_f1,bg_spec,bg_sens)"
   ]
  },
  {
   "cell_type": "markdown",
   "metadata": {},
   "source": [
    "# Boosting Classifier"
   ]
  },
  {
   "cell_type": "code",
   "execution_count": 40,
   "metadata": {},
   "outputs": [],
   "source": [
    "from sklearn.ensemble import GradientBoostingClassifier\n",
    "clf =  GradientBoostingClassifier(n_estimators=100, learning_rate=1.0,max_depth=1, random_state=0)\n",
    "clf.fit(X_train, y_train)\n",
    "\n",
    "y_pred    = clf.predict(X_test)\n",
    "bos_acc = accuracy_score(y_pred, y_test)\n",
    "bos_prec = precision_score(y_pred, y_test,average='weighted')\n",
    "bos_rec = recall_score(y_pred, y_test,average='weighted')\n",
    "bos_f1 = f1_score(y_pred, y_test,average='weighted')\n",
    "bos_spec = specificity_score(y_pred, y_test,average='weighted')\n",
    "bos_sens = sensitivity_score(y_pred, y_test,average='weighted')"
   ]
  },
  {
   "cell_type": "code",
   "execution_count": 41,
   "metadata": {},
   "outputs": [],
   "source": [
    "storeResults('Boosting',bos_acc,bos_prec,bos_rec,bos_f1,bos_spec,bos_sens)"
   ]
  },
  {
   "cell_type": "markdown",
   "metadata": {},
   "source": [
    "# Stacking Classifier"
   ]
  },
  {
   "cell_type": "code",
   "execution_count": 42,
   "metadata": {},
   "outputs": [],
   "source": [
    "from sklearn.ensemble import RandomForestClassifier\n",
    "from sklearn.neural_network import MLPClassifier\n",
    "from lightgbm import LGBMClassifier\n",
    "from sklearn.ensemble import StackingClassifier\n",
    "\n",
    "estimators = [('rf', RandomForestClassifier(n_estimators=1000)),('mlp', MLPClassifier(random_state=1, max_iter=3000))]\n",
    "\n",
    "clf = StackingClassifier(estimators=estimators, final_estimator=LGBMClassifier(n_estimators=1000))\n",
    "\n",
    "\n",
    "clf.fit(X_train,y_train)\n",
    "\n",
    "y_pred    = clf.predict(X_test)\n",
    "stac_acc = accuracy_score(y_pred, y_test)\n",
    "stac_prec = precision_score(y_pred, y_test,average='weighted')\n",
    "stac_rec = recall_score(y_pred, y_test,average='weighted')\n",
    "stac_f1 = f1_score(y_pred, y_test,average='weighted')\n",
    "stac_spec = specificity_score(y_pred, y_test,average='weighted')\n",
    "stac_sens = sensitivity_score(y_pred, y_test,average='weighted')"
   ]
  },
  {
   "cell_type": "code",
   "execution_count": 43,
   "metadata": {},
   "outputs": [],
   "source": [
    "storeResults('Stacking Classifier',stac_acc,stac_prec,stac_rec,stac_f1,stac_spec,stac_sens)"
   ]
  },
  {
   "cell_type": "markdown",
   "metadata": {},
   "source": [
    "# Voting Classifier"
   ]
  },
  {
   "cell_type": "code",
   "execution_count": 44,
   "metadata": {},
   "outputs": [],
   "source": [
    "from sklearn.ensemble import RandomForestClassifier, VotingClassifier\n",
    "clf1 = DecisionTreeClassifier(random_state=50)\n",
    "clf2 = RandomForestClassifier(random_state=10)\n",
    "\n",
    "eclf1 = VotingClassifier(estimators=[('ad', clf1), ('rf', clf2)], voting='soft')\n",
    "eclf1.fit(X_train,y_train)\n",
    "y_pred    = eclf1.predict(X_test)\n",
    "vot_acc = accuracy_score(y_pred, y_test)\n",
    "vot_prec = precision_score(y_pred, y_test,average='weighted')\n",
    "vot_rec = recall_score(y_pred, y_test,average='weighted')\n",
    "vot_f1 = f1_score(y_pred, y_test,average='weighted')\n",
    "vot_spec = specificity_score(y_pred, y_test,average='weighted')\n",
    "vot_sens = sensitivity_score(y_pred, y_test,average='weighted')"
   ]
  },
  {
   "cell_type": "code",
   "execution_count": 45,
   "metadata": {},
   "outputs": [],
   "source": [
    "storeResults('Voting Classifier',vot_acc,vot_prec,vot_rec,vot_f1,vot_spec,vot_sens)"
   ]
  },
  {
   "cell_type": "markdown",
   "metadata": {},
   "source": [
    "# DNN"
   ]
  },
  {
   "cell_type": "code",
   "execution_count": 46,
   "metadata": {},
   "outputs": [],
   "source": [
    "from keras.layers import Dense, BatchNormalization, Dropout, LSTM\n",
    "from keras.models import Sequential\n",
    "from keras import callbacks"
   ]
  },
  {
   "cell_type": "code",
   "execution_count": 47,
   "metadata": {},
   "outputs": [],
   "source": [
    "early_stopping = callbacks.EarlyStopping(\n",
    "    min_delta=0.001, # minimium amount of change to count as an improvement\n",
    "    patience=20, # how many epochs to wait before stopping\n",
    "    restore_best_weights=True)"
   ]
  },
  {
   "cell_type": "markdown",
   "metadata": {},
   "source": [
    "# 3 Layers"
   ]
  },
  {
   "cell_type": "code",
   "execution_count": 48,
   "metadata": {},
   "outputs": [],
   "source": [
    "# Initialising the NN\n",
    "model = Sequential()\n",
    "\n",
    "# layers\n",
    "model.add(Dense(units = 64, kernel_initializer = 'uniform', activation = 'relu', input_dim = 13))\n",
    "model.add(Dense(units = 32, kernel_initializer = 'uniform', activation = 'relu'))\n",
    "model.add(Dropout(0.25))\n",
    "model.add(Dense(units = 32, kernel_initializer = 'uniform', activation = 'relu'))\n",
    "model.add(Dropout(0.5))\n",
    "model.add(Dense(units = 1, kernel_initializer = 'uniform', activation = 'sigmoid'))\n",
    "\n",
    "# Compiling the ANN\n",
    "model.compile(optimizer = 'adam', loss = 'binary_crossentropy', metrics = ['accuracy'])"
   ]
  },
  {
   "cell_type": "code",
   "execution_count": 49,
   "metadata": {},
   "outputs": [
    {
     "name": "stdout",
     "output_type": "stream",
     "text": [
      "Epoch 1/100\n",
      "107/107 [==============================] - 42s 14ms/step - loss: 0.6936 - accuracy: 0.5135 - val_loss: 0.6642 - val_accuracy: 0.6667\n",
      "Epoch 2/100\n",
      "107/107 [==============================] - 0s 3ms/step - loss: 0.6961 - accuracy: 0.4923 - val_loss: 0.6907 - val_accuracy: 0.6296\n",
      "Epoch 3/100\n",
      "107/107 [==============================] - 0s 3ms/step - loss: 0.6903 - accuracy: 0.5081 - val_loss: 0.6893 - val_accuracy: 0.6481\n",
      "Epoch 4/100\n",
      "107/107 [==============================] - 0s 3ms/step - loss: 0.6858 - accuracy: 0.6043 - val_loss: 0.6439 - val_accuracy: 0.6667\n",
      "Epoch 5/100\n",
      "107/107 [==============================] - 0s 3ms/step - loss: 0.6800 - accuracy: 0.6113 - val_loss: 0.6226 - val_accuracy: 0.7222\n",
      "Epoch 6/100\n",
      "107/107 [==============================] - 0s 3ms/step - loss: 0.6405 - accuracy: 0.6258 - val_loss: 0.7414 - val_accuracy: 0.4815\n",
      "Epoch 7/100\n",
      "107/107 [==============================] - 0s 3ms/step - loss: 0.6414 - accuracy: 0.6385 - val_loss: 0.6716 - val_accuracy: 0.5556\n",
      "Epoch 8/100\n",
      "107/107 [==============================] - ETA: 0s - loss: 0.5813 - accuracy: 0.69 - 0s 3ms/step - loss: 0.5800 - accuracy: 0.7071 - val_loss: 0.6068 - val_accuracy: 0.7222\n",
      "Epoch 9/100\n",
      "107/107 [==============================] - 0s 3ms/step - loss: 0.6163 - accuracy: 0.7081 - val_loss: 0.6278 - val_accuracy: 0.7222\n",
      "Epoch 10/100\n",
      "107/107 [==============================] - 0s 3ms/step - loss: 0.5367 - accuracy: 0.7652 - val_loss: 0.5737 - val_accuracy: 0.7407\n",
      "Epoch 11/100\n",
      "107/107 [==============================] - 0s 3ms/step - loss: 0.5946 - accuracy: 0.7339 - val_loss: 0.7578 - val_accuracy: 0.5741\n",
      "Epoch 12/100\n",
      "107/107 [==============================] - 0s 3ms/step - loss: 0.4795 - accuracy: 0.7897 - val_loss: 0.5347 - val_accuracy: 0.7037\n",
      "Epoch 13/100\n",
      "107/107 [==============================] - 0s 3ms/step - loss: 0.5020 - accuracy: 0.7814 - val_loss: 0.5544 - val_accuracy: 0.7407\n",
      "Epoch 14/100\n",
      "107/107 [==============================] - 0s 3ms/step - loss: 0.4897 - accuracy: 0.7805 - val_loss: 0.4951 - val_accuracy: 0.7222\n",
      "Epoch 15/100\n",
      "107/107 [==============================] - 0s 3ms/step - loss: 0.4787 - accuracy: 0.7550 - val_loss: 0.5407 - val_accuracy: 0.7407\n",
      "Epoch 16/100\n",
      "107/107 [==============================] - 0s 3ms/step - loss: 0.4439 - accuracy: 0.8018 - val_loss: 0.5862 - val_accuracy: 0.6852\n",
      "Epoch 17/100\n",
      "107/107 [==============================] - 0s 3ms/step - loss: 0.4251 - accuracy: 0.7650 - val_loss: 0.4594 - val_accuracy: 0.7593\n",
      "Epoch 18/100\n",
      "107/107 [==============================] - 0s 3ms/step - loss: 0.4641 - accuracy: 0.8105 - val_loss: 0.5266 - val_accuracy: 0.7778\n",
      "Epoch 19/100\n",
      "107/107 [==============================] - 0s 3ms/step - loss: 0.4640 - accuracy: 0.7739 - val_loss: 0.5375 - val_accuracy: 0.7963\n",
      "Epoch 20/100\n",
      "107/107 [==============================] - 0s 3ms/step - loss: 0.4498 - accuracy: 0.8017 - val_loss: 0.5120 - val_accuracy: 0.8148\n",
      "Epoch 21/100\n",
      "107/107 [==============================] - 0s 3ms/step - loss: 0.3680 - accuracy: 0.8121 - val_loss: 0.4544 - val_accuracy: 0.7593\n",
      "Epoch 22/100\n",
      "107/107 [==============================] - 0s 3ms/step - loss: 0.5022 - accuracy: 0.7741 - val_loss: 0.4815 - val_accuracy: 0.7778\n",
      "Epoch 23/100\n",
      "107/107 [==============================] - 0s 3ms/step - loss: 0.4275 - accuracy: 0.7905 - val_loss: 0.6158 - val_accuracy: 0.7407\n",
      "Epoch 24/100\n",
      "107/107 [==============================] - 0s 3ms/step - loss: 0.4011 - accuracy: 0.8570 - val_loss: 0.7064 - val_accuracy: 0.7407\n",
      "Epoch 25/100\n",
      "107/107 [==============================] - 0s 3ms/step - loss: 0.5962 - accuracy: 0.7533 - val_loss: 0.4734 - val_accuracy: 0.8148\n",
      "Epoch 26/100\n",
      "107/107 [==============================] - 0s 3ms/step - loss: 0.3775 - accuracy: 0.8405 - val_loss: 0.4484 - val_accuracy: 0.7778\n",
      "Epoch 27/100\n",
      "107/107 [==============================] - 0s 3ms/step - loss: 0.4096 - accuracy: 0.8420 - val_loss: 0.4746 - val_accuracy: 0.7778\n",
      "Epoch 28/100\n",
      "107/107 [==============================] - 0s 3ms/step - loss: 0.4359 - accuracy: 0.8203 - val_loss: 0.8581 - val_accuracy: 0.6667\n",
      "Epoch 29/100\n",
      "107/107 [==============================] - 0s 3ms/step - loss: 0.4396 - accuracy: 0.8136 - val_loss: 0.4595 - val_accuracy: 0.7778\n",
      "Epoch 30/100\n",
      "107/107 [==============================] - 0s 3ms/step - loss: 0.3930 - accuracy: 0.8055 - val_loss: 0.5382 - val_accuracy: 0.7963\n",
      "Epoch 31/100\n",
      "107/107 [==============================] - 0s 3ms/step - loss: 0.4304 - accuracy: 0.7894 - val_loss: 0.4879 - val_accuracy: 0.8333\n",
      "Epoch 32/100\n",
      "107/107 [==============================] - 0s 3ms/step - loss: 0.3719 - accuracy: 0.8400 - val_loss: 0.4503 - val_accuracy: 0.7963\n",
      "Epoch 33/100\n",
      "107/107 [==============================] - 0s 3ms/step - loss: 0.4088 - accuracy: 0.8319 - val_loss: 0.5387 - val_accuracy: 0.7963\n",
      "Epoch 34/100\n",
      "107/107 [==============================] - 0s 3ms/step - loss: 0.4164 - accuracy: 0.8361 - val_loss: 0.6090 - val_accuracy: 0.7778\n",
      "Epoch 35/100\n",
      "107/107 [==============================] - 0s 3ms/step - loss: 0.3065 - accuracy: 0.8743 - val_loss: 0.5028 - val_accuracy: 0.7778\n",
      "Epoch 36/100\n",
      "107/107 [==============================] - 0s 3ms/step - loss: 0.4064 - accuracy: 0.8224 - val_loss: 0.4416 - val_accuracy: 0.7963\n",
      "Epoch 37/100\n",
      "107/107 [==============================] - 0s 3ms/step - loss: 0.4166 - accuracy: 0.8409 - val_loss: 0.5026 - val_accuracy: 0.7963\n",
      "Epoch 38/100\n",
      "107/107 [==============================] - 0s 3ms/step - loss: 0.4048 - accuracy: 0.8695 - val_loss: 0.5351 - val_accuracy: 0.8148\n",
      "Epoch 39/100\n",
      "107/107 [==============================] - 0s 3ms/step - loss: 0.3947 - accuracy: 0.8753 - val_loss: 0.5437 - val_accuracy: 0.8148\n",
      "Epoch 40/100\n",
      "107/107 [==============================] - 0s 3ms/step - loss: 0.4496 - accuracy: 0.8468 - val_loss: 0.6588 - val_accuracy: 0.7963\n",
      "Epoch 41/100\n",
      "107/107 [==============================] - 0s 3ms/step - loss: 0.4275 - accuracy: 0.8347 - val_loss: 0.4881 - val_accuracy: 0.7963\n",
      "Epoch 42/100\n",
      "107/107 [==============================] - 0s 3ms/step - loss: 0.3181 - accuracy: 0.8588 - val_loss: 0.5523 - val_accuracy: 0.8148\n",
      "Epoch 43/100\n",
      "107/107 [==============================] - 0s 3ms/step - loss: 0.3765 - accuracy: 0.8548 - val_loss: 0.4604 - val_accuracy: 0.8148\n",
      "Epoch 44/100\n",
      "107/107 [==============================] - 0s 3ms/step - loss: 0.4077 - accuracy: 0.8097 - val_loss: 0.5313 - val_accuracy: 0.8148\n",
      "Epoch 45/100\n",
      "107/107 [==============================] - 0s 3ms/step - loss: 0.3674 - accuracy: 0.8380 - val_loss: 0.4835 - val_accuracy: 0.7963\n",
      "Epoch 46/100\n",
      "107/107 [==============================] - 0s 3ms/step - loss: 0.4226 - accuracy: 0.8344 - val_loss: 0.6875 - val_accuracy: 0.7963\n",
      "Epoch 47/100\n",
      "107/107 [==============================] - 0s 3ms/step - loss: 0.4944 - accuracy: 0.8161 - val_loss: 0.4837 - val_accuracy: 0.8148\n",
      "Epoch 48/100\n",
      "107/107 [==============================] - 0s 3ms/step - loss: 0.4570 - accuracy: 0.8450 - val_loss: 0.5342 - val_accuracy: 0.8148\n",
      "Epoch 49/100\n",
      "107/107 [==============================] - 0s 3ms/step - loss: 0.4875 - accuracy: 0.7940 - val_loss: 0.6216 - val_accuracy: 0.7963\n",
      "Epoch 50/100\n",
      "107/107 [==============================] - 0s 3ms/step - loss: 0.3893 - accuracy: 0.8549 - val_loss: 0.5316 - val_accuracy: 0.8148\n",
      "Epoch 51/100\n",
      "107/107 [==============================] - 0s 3ms/step - loss: 0.4021 - accuracy: 0.8432 - val_loss: 0.5062 - val_accuracy: 0.8148\n",
      "Epoch 52/100\n",
      "107/107 [==============================] - 0s 3ms/step - loss: 0.3904 - accuracy: 0.8398 - val_loss: 0.6151 - val_accuracy: 0.8148\n",
      "Epoch 53/100\n",
      "107/107 [==============================] - 0s 4ms/step - loss: 0.3701 - accuracy: 0.8394 - val_loss: 0.4579 - val_accuracy: 0.8148\n",
      "Epoch 54/100\n",
      "107/107 [==============================] - 0s 3ms/step - loss: 0.4389 - accuracy: 0.7944 - val_loss: 0.4823 - val_accuracy: 0.7963\n",
      "Epoch 55/100\n",
      "107/107 [==============================] - 0s 3ms/step - loss: 0.4608 - accuracy: 0.8076 - val_loss: 0.5464 - val_accuracy: 0.8333\n",
      "Epoch 56/100\n",
      "107/107 [==============================] - 0s 3ms/step - loss: 0.3314 - accuracy: 0.8751 - val_loss: 0.5205 - val_accuracy: 0.8148\n",
      "Epoch 57/100\n"
     ]
    },
    {
     "name": "stdout",
     "output_type": "stream",
     "text": [
      "107/107 [==============================] - 0s 3ms/step - loss: 0.3663 - accuracy: 0.8464 - val_loss: 0.7577 - val_accuracy: 0.7778\n",
      "Epoch 58/100\n",
      "107/107 [==============================] - 0s 3ms/step - loss: 0.4693 - accuracy: 0.7740 - val_loss: 0.5302 - val_accuracy: 0.8148\n",
      "Epoch 59/100\n",
      "107/107 [==============================] - 0s 3ms/step - loss: 0.4066 - accuracy: 0.8648 - val_loss: 0.7080 - val_accuracy: 0.7778\n",
      "Epoch 60/100\n",
      "107/107 [==============================] - 0s 3ms/step - loss: 0.3838 - accuracy: 0.8218 - val_loss: 0.4762 - val_accuracy: 0.7963\n",
      "Epoch 61/100\n",
      "107/107 [==============================] - 0s 3ms/step - loss: 0.3202 - accuracy: 0.8673 - val_loss: 0.5451 - val_accuracy: 0.8148\n",
      "Epoch 62/100\n",
      "107/107 [==============================] - 0s 3ms/step - loss: 0.3937 - accuracy: 0.8305 - val_loss: 0.5002 - val_accuracy: 0.8148\n",
      "Epoch 63/100\n",
      "107/107 [==============================] - 0s 3ms/step - loss: 0.3379 - accuracy: 0.8441 - val_loss: 0.5053 - val_accuracy: 0.8148\n",
      "Epoch 64/100\n",
      "107/107 [==============================] - 0s 3ms/step - loss: 0.3902 - accuracy: 0.8020 - val_loss: 0.4349 - val_accuracy: 0.8148\n",
      "Epoch 65/100\n",
      "107/107 [==============================] - 0s 3ms/step - loss: 0.3451 - accuracy: 0.8421 - val_loss: 0.5228 - val_accuracy: 0.8148\n",
      "Epoch 66/100\n",
      "107/107 [==============================] - 0s 3ms/step - loss: 0.3856 - accuracy: 0.8234 - val_loss: 0.6094 - val_accuracy: 0.8148\n",
      "Epoch 67/100\n",
      "107/107 [==============================] - 0s 3ms/step - loss: 0.3699 - accuracy: 0.8284 - val_loss: 0.4998 - val_accuracy: 0.7963\n",
      "Epoch 68/100\n",
      "107/107 [==============================] - 0s 3ms/step - loss: 0.3591 - accuracy: 0.8757 - val_loss: 0.6079 - val_accuracy: 0.8148\n",
      "Epoch 69/100\n",
      "107/107 [==============================] - 0s 3ms/step - loss: 0.3818 - accuracy: 0.8332 - val_loss: 0.5910 - val_accuracy: 0.8148\n",
      "Epoch 70/100\n",
      "107/107 [==============================] - 0s 3ms/step - loss: 0.4630 - accuracy: 0.8303 - val_loss: 0.6427 - val_accuracy: 0.7963\n",
      "Epoch 71/100\n",
      "107/107 [==============================] - 0s 3ms/step - loss: 0.4141 - accuracy: 0.8536 - val_loss: 0.6500 - val_accuracy: 0.7963\n",
      "Epoch 72/100\n",
      "107/107 [==============================] - 0s 3ms/step - loss: 0.3764 - accuracy: 0.8371 - val_loss: 0.4436 - val_accuracy: 0.7778\n",
      "Epoch 73/100\n",
      "107/107 [==============================] - 0s 3ms/step - loss: 0.4717 - accuracy: 0.7696 - val_loss: 0.4843 - val_accuracy: 0.7963\n",
      "Epoch 74/100\n",
      "107/107 [==============================] - 0s 3ms/step - loss: 0.4185 - accuracy: 0.8217 - val_loss: 0.6994 - val_accuracy: 0.8148\n",
      "Epoch 75/100\n",
      "107/107 [==============================] - 0s 3ms/step - loss: 0.4205 - accuracy: 0.8347 - val_loss: 0.5569 - val_accuracy: 0.7963\n",
      "Epoch 76/100\n",
      "107/107 [==============================] - 0s 3ms/step - loss: 0.3308 - accuracy: 0.8853 - val_loss: 0.5421 - val_accuracy: 0.7963\n",
      "Epoch 77/100\n",
      "107/107 [==============================] - 0s 3ms/step - loss: 0.3712 - accuracy: 0.8280 - val_loss: 0.5137 - val_accuracy: 0.8148\n",
      "Epoch 78/100\n",
      "107/107 [==============================] - 0s 3ms/step - loss: 0.3319 - accuracy: 0.8625 - val_loss: 0.5463 - val_accuracy: 0.8148\n",
      "Epoch 79/100\n",
      "107/107 [==============================] - 0s 3ms/step - loss: 0.4082 - accuracy: 0.8099 - val_loss: 0.5177 - val_accuracy: 0.8148\n",
      "Epoch 80/100\n",
      "107/107 [==============================] - 0s 3ms/step - loss: 0.3351 - accuracy: 0.8774 - val_loss: 0.5078 - val_accuracy: 0.7778\n",
      "Epoch 81/100\n",
      "107/107 [==============================] - 0s 3ms/step - loss: 0.4976 - accuracy: 0.7815 - val_loss: 0.5386 - val_accuracy: 0.8148\n",
      "Epoch 82/100\n",
      "107/107 [==============================] - 0s 3ms/step - loss: 0.4237 - accuracy: 0.8092 - val_loss: 0.7350 - val_accuracy: 0.7222\n",
      "Epoch 83/100\n",
      "107/107 [==============================] - 0s 3ms/step - loss: 0.4011 - accuracy: 0.8076 - val_loss: 0.7134 - val_accuracy: 0.7593\n",
      "Epoch 84/100\n",
      "107/107 [==============================] - 0s 3ms/step - loss: 0.4026 - accuracy: 0.8149 - val_loss: 0.6033 - val_accuracy: 0.8148\n",
      "Epoch 85/100\n",
      "107/107 [==============================] - ETA: 0s - loss: 0.3854 - accuracy: 0.87 - 0s 3ms/step - loss: 0.3890 - accuracy: 0.8640 - val_loss: 0.7925 - val_accuracy: 0.7037\n",
      "Epoch 86/100\n",
      "107/107 [==============================] - 0s 3ms/step - loss: 0.4280 - accuracy: 0.8110 - val_loss: 0.5891 - val_accuracy: 0.8148\n",
      "Epoch 87/100\n",
      "107/107 [==============================] - 0s 3ms/step - loss: 0.3686 - accuracy: 0.8366 - val_loss: 0.4907 - val_accuracy: 0.7963\n",
      "Epoch 88/100\n",
      "107/107 [==============================] - 0s 3ms/step - loss: 0.3291 - accuracy: 0.8940 - val_loss: 0.4989 - val_accuracy: 0.7963\n",
      "Epoch 89/100\n",
      "107/107 [==============================] - 0s 3ms/step - loss: 0.3783 - accuracy: 0.8559 - val_loss: 0.6963 - val_accuracy: 0.8148\n",
      "Epoch 90/100\n",
      "107/107 [==============================] - 0s 3ms/step - loss: 0.3463 - accuracy: 0.8625 - val_loss: 0.5663 - val_accuracy: 0.8148\n",
      "Epoch 91/100\n",
      "107/107 [==============================] - 0s 3ms/step - loss: 0.4121 - accuracy: 0.8291 - val_loss: 0.5497 - val_accuracy: 0.8333\n",
      "Epoch 92/100\n",
      "107/107 [==============================] - 0s 3ms/step - loss: 0.4359 - accuracy: 0.8130 - val_loss: 0.5587 - val_accuracy: 0.8333\n",
      "Epoch 93/100\n",
      "107/107 [==============================] - 0s 3ms/step - loss: 0.3308 - accuracy: 0.8785 - val_loss: 0.5191 - val_accuracy: 0.8333\n",
      "Epoch 94/100\n",
      "107/107 [==============================] - 0s 3ms/step - loss: 0.3987 - accuracy: 0.8436 - val_loss: 0.7095 - val_accuracy: 0.7407\n",
      "Epoch 95/100\n",
      "107/107 [==============================] - 0s 3ms/step - loss: 0.3231 - accuracy: 0.8681 - val_loss: 0.8033 - val_accuracy: 0.6667\n",
      "Epoch 96/100\n",
      "107/107 [==============================] - 0s 3ms/step - loss: 0.4311 - accuracy: 0.8064 - val_loss: 0.5637 - val_accuracy: 0.8148\n",
      "Epoch 97/100\n",
      "107/107 [==============================] - 0s 3ms/step - loss: 0.3531 - accuracy: 0.8458 - val_loss: 0.4901 - val_accuracy: 0.8148\n",
      "Epoch 98/100\n",
      "107/107 [==============================] - 0s 3ms/step - loss: 0.3544 - accuracy: 0.8137 - val_loss: 0.6424 - val_accuracy: 0.8148\n",
      "Epoch 99/100\n",
      "107/107 [==============================] - 0s 3ms/step - loss: 0.4018 - accuracy: 0.8361 - val_loss: 0.5449 - val_accuracy: 0.8148\n",
      "Epoch 100/100\n",
      "107/107 [==============================] - 0s 3ms/step - loss: 0.3195 - accuracy: 0.8997 - val_loss: 0.4986 - val_accuracy: 0.8148\n"
     ]
    }
   ],
   "source": [
    "# Train the ANN\n",
    "history = model.fit(X_train, y_train, batch_size = 2, epochs = 100, validation_split=0.2)"
   ]
  },
  {
   "cell_type": "code",
   "execution_count": 50,
   "metadata": {},
   "outputs": [
    {
     "data": {
      "image/png": "[encoded data removed]",
      "text/plain": [
       "<Figure size 432x288 with 1 Axes>"
      ]
     },
     "metadata": {
      "needs_background": "light"
     },
     "output_type": "display_data"
    },
    {
     "data": {
      "image/png": "[encoded data removed]",
      "text/plain": [
       "<Figure size 432x288 with 1 Axes>"
      ]
     },
     "metadata": {
      "needs_background": "light"
     },
     "output_type": "display_data"
    }
   ],
   "source": [
    "history_df = pd.DataFrame(history.history)\n",
    "\n",
    "plt.plot(history_df.loc[:, ['loss']], \"#CD5C5C\", label='Training loss')\n",
    "plt.plot(history_df.loc[:, ['val_loss']],\"#FF0000\", label='Validation loss')\n",
    "plt.title('Training and Validation loss')\n",
    "plt.xlabel('Epochs')\n",
    "plt.ylabel('Loss')\n",
    "plt.legend(loc=\"best\")\n",
    "\n",
    "plt.show()\n",
    "\n",
    "history_df = pd.DataFrame(history.history)\n",
    "\n",
    "plt.plot(history_df.loc[:, ['accuracy']], \"#CD5C5C\", label='Training accuracy')\n",
    "plt.plot(history_df.loc[:, ['val_accuracy']],\"#FF0000\", label='Validation accuracy')\n",
    "\n",
    "plt.title('Training and Validation accuracy')\n",
    "plt.xlabel('Epochs')\n",
    "plt.ylabel('Accuracy')\n",
    "plt.legend()\n",
    "plt.show()"
   ]
  },
  {
   "cell_type": "code",
   "execution_count": 51,
   "metadata": {},
   "outputs": [],
   "source": [
    "# Predicting the test set results\n",
    "y_pred = model.predict(X_test)\n",
    "y_pred = (y_pred > 0.4)"
   ]
  },
  {
   "cell_type": "code",
   "execution_count": 52,
   "metadata": {},
   "outputs": [],
   "source": [
    "dnn_3_acc = accuracy_score(y_pred, y_test)\n",
    "dnn_3_prec = precision_score(y_pred, y_test,average='weighted')\n",
    "dnn_3_rec = recall_score(y_pred, y_test,average='weighted')\n",
    "dnn_3_f1 = f1_score(y_pred, y_test,average='weighted')\n",
    "dnn_3_spec = specificity_score(y_pred, y_test,average='weighted')\n",
    "dnn_3_sens = sensitivity_score(y_pred, y_test,average='weighted')"
   ]
  },
  {
   "cell_type": "code",
   "execution_count": 53,
   "metadata": {},
   "outputs": [],
   "source": [
    "storeResults1('DNN - 3 Layers',dnn_3_acc,dnn_3_prec,dnn_3_rec,dnn_3_f1,dnn_3_spec,dnn_3_sens)"
   ]
  },
  {
   "cell_type": "markdown",
   "metadata": {},
   "source": [
    "# 4 Layers"
   ]
  },
  {
   "cell_type": "code",
   "execution_count": 54,
   "metadata": {},
   "outputs": [],
   "source": [
    "# Initialising the NN\n",
    "model = Sequential()\n",
    "\n",
    "# layers\n",
    "model.add(Dense(units = 128, kernel_initializer = 'uniform', activation = 'relu', input_dim = 13))\n",
    "model.add(Dense(units = 64, kernel_initializer = 'uniform', activation = 'relu'))\n",
    "model.add(Dropout(0.25))\n",
    "model.add(Dense(units = 64, kernel_initializer = 'uniform', activation = 'relu'))\n",
    "model.add(Dropout(0.5))\n",
    "model.add(Dense(units = 32, kernel_initializer = 'uniform', activation = 'relu'))\n",
    "model.add(Dropout(0.5))\n",
    "model.add(Dense(units = 1, kernel_initializer = 'uniform', activation = 'sigmoid'))\n",
    "\n",
    "# Compiling the ANN\n",
    "model.compile(optimizer = 'adam', loss = 'binary_crossentropy', metrics = ['accuracy'])"
   ]
  },
  {
   "cell_type": "code",
   "execution_count": 55,
   "metadata": {},
   "outputs": [
    {
     "name": "stdout",
     "output_type": "stream",
     "text": [
      "Epoch 1/100\n",
      "107/107 [==============================] - 4s 11ms/step - loss: 0.6954 - accuracy: 0.4784 - val_loss: 0.6929 - val_accuracy: 0.6667\n",
      "Epoch 2/100\n",
      "107/107 [==============================] - 0s 3ms/step - loss: 0.6934 - accuracy: 0.5088 - val_loss: 0.6908 - val_accuracy: 0.6667\n",
      "Epoch 3/100\n",
      "107/107 [==============================] - 0s 3ms/step - loss: 0.6927 - accuracy: 0.5066 - val_loss: 0.6851 - val_accuracy: 0.6667\n",
      "Epoch 4/100\n",
      "107/107 [==============================] - 0s 3ms/step - loss: 0.6929 - accuracy: 0.5382 - val_loss: 0.6904 - val_accuracy: 0.5370\n",
      "Epoch 5/100\n",
      "107/107 [==============================] - 0s 3ms/step - loss: 0.6874 - accuracy: 0.6123 - val_loss: 0.6846 - val_accuracy: 0.5370\n",
      "Epoch 6/100\n",
      "107/107 [==============================] - 0s 4ms/step - loss: 0.6825 - accuracy: 0.6046 - val_loss: 0.7273 - val_accuracy: 0.3519\n",
      "Epoch 7/100\n",
      "107/107 [==============================] - 0s 3ms/step - loss: 0.6499 - accuracy: 0.6538 - val_loss: 0.6198 - val_accuracy: 0.6852\n",
      "Epoch 8/100\n",
      "107/107 [==============================] - 0s 3ms/step - loss: 0.5564 - accuracy: 0.7359 - val_loss: 0.5896 - val_accuracy: 0.7037\n",
      "Epoch 9/100\n",
      "107/107 [==============================] - 0s 3ms/step - loss: 0.5315 - accuracy: 0.7497 - val_loss: 0.6751 - val_accuracy: 0.7407\n",
      "Epoch 10/100\n",
      "107/107 [==============================] - 0s 3ms/step - loss: 0.5230 - accuracy: 0.7790 - val_loss: 0.5513 - val_accuracy: 0.7222\n",
      "Epoch 11/100\n",
      "107/107 [==============================] - 0s 3ms/step - loss: 0.5294 - accuracy: 0.7320 - val_loss: 0.5152 - val_accuracy: 0.7593\n",
      "Epoch 12/100\n",
      "107/107 [==============================] - 0s 3ms/step - loss: 0.5428 - accuracy: 0.6901 - val_loss: 0.5276 - val_accuracy: 0.7222\n",
      "Epoch 13/100\n",
      "107/107 [==============================] - 0s 3ms/step - loss: 0.5556 - accuracy: 0.7122 - val_loss: 0.5652 - val_accuracy: 0.7222\n",
      "Epoch 14/100\n",
      "107/107 [==============================] - 0s 3ms/step - loss: 0.4779 - accuracy: 0.7703 - val_loss: 0.6732 - val_accuracy: 0.6296\n",
      "Epoch 15/100\n",
      "107/107 [==============================] - 0s 3ms/step - loss: 0.4741 - accuracy: 0.7776 - val_loss: 0.5432 - val_accuracy: 0.7407\n",
      "Epoch 16/100\n",
      "107/107 [==============================] - 0s 3ms/step - loss: 0.4861 - accuracy: 0.7803 - val_loss: 0.4641 - val_accuracy: 0.7963\n",
      "Epoch 17/100\n",
      "107/107 [==============================] - 0s 3ms/step - loss: 0.5365 - accuracy: 0.7463 - val_loss: 0.5206 - val_accuracy: 0.7778\n",
      "Epoch 18/100\n",
      "107/107 [==============================] - 0s 3ms/step - loss: 0.4837 - accuracy: 0.8116 - val_loss: 0.4970 - val_accuracy: 0.7407\n",
      "Epoch 19/100\n",
      "107/107 [==============================] - 0s 3ms/step - loss: 0.4817 - accuracy: 0.8255 - val_loss: 0.5418 - val_accuracy: 0.7593\n",
      "Epoch 20/100\n",
      "107/107 [==============================] - 0s 3ms/step - loss: 0.5199 - accuracy: 0.7848 - val_loss: 0.5811 - val_accuracy: 0.7593\n",
      "Epoch 21/100\n",
      "107/107 [==============================] - 0s 3ms/step - loss: 0.3960 - accuracy: 0.8631 - val_loss: 0.4811 - val_accuracy: 0.7963\n",
      "Epoch 22/100\n",
      "107/107 [==============================] - 0s 3ms/step - loss: 0.4669 - accuracy: 0.7916 - val_loss: 0.4553 - val_accuracy: 0.7593\n",
      "Epoch 23/100\n",
      "107/107 [==============================] - 0s 3ms/step - loss: 0.5013 - accuracy: 0.7734 - val_loss: 0.4843 - val_accuracy: 0.7778\n",
      "Epoch 24/100\n",
      "107/107 [==============================] - 0s 3ms/step - loss: 0.5372 - accuracy: 0.8047 - val_loss: 0.4931 - val_accuracy: 0.8148\n",
      "Epoch 25/100\n",
      "107/107 [==============================] - 0s 3ms/step - loss: 0.4220 - accuracy: 0.8411 - val_loss: 0.5787 - val_accuracy: 0.7963\n",
      "Epoch 26/100\n",
      "107/107 [==============================] - 0s 4ms/step - loss: 0.4535 - accuracy: 0.8059 - val_loss: 0.5869 - val_accuracy: 0.7963\n",
      "Epoch 27/100\n",
      "107/107 [==============================] - 0s 3ms/step - loss: 0.5287 - accuracy: 0.7180 - val_loss: 0.6824 - val_accuracy: 0.7407\n",
      "Epoch 28/100\n",
      "107/107 [==============================] - 0s 3ms/step - loss: 0.4703 - accuracy: 0.8167 - val_loss: 0.4593 - val_accuracy: 0.7593\n",
      "Epoch 29/100\n",
      "107/107 [==============================] - 0s 3ms/step - loss: 0.4168 - accuracy: 0.8046 - val_loss: 0.4417 - val_accuracy: 0.7778\n",
      "Epoch 30/100\n",
      "107/107 [==============================] - 0s 3ms/step - loss: 0.4154 - accuracy: 0.8446 - val_loss: 0.4731 - val_accuracy: 0.8333\n",
      "Epoch 31/100\n",
      "107/107 [==============================] - 0s 3ms/step - loss: 0.4250 - accuracy: 0.8232 - val_loss: 0.5569 - val_accuracy: 0.7778\n",
      "Epoch 32/100\n",
      "107/107 [==============================] - 0s 3ms/step - loss: 0.3635 - accuracy: 0.8749 - val_loss: 0.5097 - val_accuracy: 0.7963\n",
      "Epoch 33/100\n",
      "107/107 [==============================] - 0s 3ms/step - loss: 0.3813 - accuracy: 0.8248 - val_loss: 0.6741 - val_accuracy: 0.7778\n",
      "Epoch 34/100\n",
      "107/107 [==============================] - 0s 3ms/step - loss: 0.4169 - accuracy: 0.7944 - val_loss: 0.5132 - val_accuracy: 0.7963\n",
      "Epoch 35/100\n",
      "107/107 [==============================] - 0s 3ms/step - loss: 0.4371 - accuracy: 0.8149 - val_loss: 0.4439 - val_accuracy: 0.7778\n",
      "Epoch 36/100\n",
      "107/107 [==============================] - 0s 3ms/step - loss: 0.4108 - accuracy: 0.8050 - val_loss: 0.5169 - val_accuracy: 0.8519\n",
      "Epoch 37/100\n",
      "107/107 [==============================] - 0s 3ms/step - loss: 0.3918 - accuracy: 0.8606 - val_loss: 0.4853 - val_accuracy: 0.8333\n",
      "Epoch 38/100\n",
      "107/107 [==============================] - 0s 3ms/step - loss: 0.4315 - accuracy: 0.8209 - val_loss: 0.4906 - val_accuracy: 0.7963\n",
      "Epoch 39/100\n",
      "107/107 [==============================] - 0s 3ms/step - loss: 0.3967 - accuracy: 0.8607 - val_loss: 0.6506 - val_accuracy: 0.7963\n",
      "Epoch 40/100\n",
      "107/107 [==============================] - 0s 3ms/step - loss: 0.3649 - accuracy: 0.8527 - val_loss: 0.5024 - val_accuracy: 0.7778\n",
      "Epoch 41/100\n",
      "107/107 [==============================] - 0s 3ms/step - loss: 0.4113 - accuracy: 0.8255 - val_loss: 0.5545 - val_accuracy: 0.8148\n",
      "Epoch 42/100\n",
      "107/107 [==============================] - 0s 3ms/step - loss: 0.4212 - accuracy: 0.8278 - val_loss: 0.7300 - val_accuracy: 0.7222\n",
      "Epoch 43/100\n",
      "107/107 [==============================] - 0s 3ms/step - loss: 0.3619 - accuracy: 0.8495 - val_loss: 0.6530 - val_accuracy: 0.8148\n",
      "Epoch 44/100\n",
      "107/107 [==============================] - 0s 3ms/step - loss: 0.4355 - accuracy: 0.8495 - val_loss: 0.5340 - val_accuracy: 0.7963\n",
      "Epoch 45/100\n",
      "107/107 [==============================] - 0s 3ms/step - loss: 0.4358 - accuracy: 0.7909 - val_loss: 0.5631 - val_accuracy: 0.8148\n",
      "Epoch 46/100\n",
      "107/107 [==============================] - 0s 3ms/step - loss: 0.4096 - accuracy: 0.8366 - val_loss: 0.5159 - val_accuracy: 0.7963\n",
      "Epoch 47/100\n",
      "107/107 [==============================] - 0s 3ms/step - loss: 0.3430 - accuracy: 0.8582 - val_loss: 0.6406 - val_accuracy: 0.8148\n",
      "Epoch 48/100\n",
      "107/107 [==============================] - 0s 3ms/step - loss: 0.3719 - accuracy: 0.8554 - val_loss: 0.6297 - val_accuracy: 0.8148\n",
      "Epoch 49/100\n",
      "107/107 [==============================] - 0s 3ms/step - loss: 0.3070 - accuracy: 0.8732 - val_loss: 0.5985 - val_accuracy: 0.8148\n",
      "Epoch 50/100\n",
      "107/107 [==============================] - 0s 3ms/step - loss: 0.3263 - accuracy: 0.8734 - val_loss: 0.4419 - val_accuracy: 0.8148\n",
      "Epoch 51/100\n",
      "107/107 [==============================] - 0s 3ms/step - loss: 0.3994 - accuracy: 0.8154 - val_loss: 0.4916 - val_accuracy: 0.7778\n",
      "Epoch 52/100\n",
      "107/107 [==============================] - 0s 3ms/step - loss: 0.3926 - accuracy: 0.8502 - val_loss: 0.4951 - val_accuracy: 0.7963\n",
      "Epoch 53/100\n",
      "107/107 [==============================] - 0s 3ms/step - loss: 0.4500 - accuracy: 0.7993 - val_loss: 0.5191 - val_accuracy: 0.8333\n",
      "Epoch 54/100\n",
      "107/107 [==============================] - 0s 3ms/step - loss: 0.4015 - accuracy: 0.8162 - val_loss: 0.5639 - val_accuracy: 0.8148\n",
      "Epoch 55/100\n",
      "107/107 [==============================] - 0s 2ms/step - loss: 0.3877 - accuracy: 0.8334 - val_loss: 0.4786 - val_accuracy: 0.7963\n",
      "Epoch 56/100\n",
      "107/107 [==============================] - 0s 3ms/step - loss: 0.3858 - accuracy: 0.8425 - val_loss: 0.4370 - val_accuracy: 0.7963\n",
      "Epoch 57/100\n",
      "107/107 [==============================] - 0s 3ms/step - loss: 0.3867 - accuracy: 0.8306 - val_loss: 0.7283 - val_accuracy: 0.8148\n"
     ]
    },
    {
     "name": "stdout",
     "output_type": "stream",
     "text": [
      "Epoch 58/100\n",
      "107/107 [==============================] - 0s 3ms/step - loss: 0.3908 - accuracy: 0.8057 - val_loss: 0.6282 - val_accuracy: 0.8333\n",
      "Epoch 59/100\n",
      "107/107 [==============================] - 0s 3ms/step - loss: 0.3546 - accuracy: 0.8923 - val_loss: 0.4786 - val_accuracy: 0.8148\n",
      "Epoch 60/100\n",
      "107/107 [==============================] - 0s 3ms/step - loss: 0.3839 - accuracy: 0.8298 - val_loss: 0.6748 - val_accuracy: 0.8148\n",
      "Epoch 61/100\n",
      "107/107 [==============================] - 0s 3ms/step - loss: 0.3192 - accuracy: 0.8829 - val_loss: 0.4667 - val_accuracy: 0.7963\n",
      "Epoch 62/100\n",
      "107/107 [==============================] - 0s 3ms/step - loss: 0.3289 - accuracy: 0.8693 - val_loss: 0.5849 - val_accuracy: 0.8148\n",
      "Epoch 63/100\n",
      "107/107 [==============================] - 0s 3ms/step - loss: 0.3181 - accuracy: 0.8446 - val_loss: 0.5214 - val_accuracy: 0.8148\n",
      "Epoch 64/100\n",
      "107/107 [==============================] - 0s 3ms/step - loss: 0.3402 - accuracy: 0.8561 - val_loss: 0.4716 - val_accuracy: 0.8333\n",
      "Epoch 65/100\n",
      "107/107 [==============================] - 0s 3ms/step - loss: 0.3598 - accuracy: 0.8399 - val_loss: 0.5028 - val_accuracy: 0.7778\n",
      "Epoch 66/100\n",
      "107/107 [==============================] - 0s 3ms/step - loss: 0.4045 - accuracy: 0.8206 - val_loss: 0.4792 - val_accuracy: 0.7963\n",
      "Epoch 67/100\n",
      "107/107 [==============================] - 0s 3ms/step - loss: 0.3619 - accuracy: 0.8130 - val_loss: 0.7106 - val_accuracy: 0.8148\n",
      "Epoch 68/100\n",
      "107/107 [==============================] - 0s 3ms/step - loss: 0.3341 - accuracy: 0.8688 - val_loss: 0.7044 - val_accuracy: 0.7593\n",
      "Epoch 69/100\n",
      "107/107 [==============================] - 0s 3ms/step - loss: 0.3560 - accuracy: 0.8691 - val_loss: 0.4997 - val_accuracy: 0.7778\n",
      "Epoch 70/100\n",
      "107/107 [==============================] - 0s 3ms/step - loss: 0.3970 - accuracy: 0.8628 - val_loss: 0.4842 - val_accuracy: 0.8148\n",
      "Epoch 71/100\n",
      "107/107 [==============================] - 0s 3ms/step - loss: 0.4296 - accuracy: 0.8329 - val_loss: 0.6745 - val_accuracy: 0.8148\n",
      "Epoch 72/100\n",
      "107/107 [==============================] - 0s 3ms/step - loss: 0.4716 - accuracy: 0.8169 - val_loss: 0.5749 - val_accuracy: 0.8148\n",
      "Epoch 73/100\n",
      "107/107 [==============================] - 0s 3ms/step - loss: 0.3788 - accuracy: 0.8421 - val_loss: 0.8465 - val_accuracy: 0.6852\n",
      "Epoch 74/100\n",
      "107/107 [==============================] - 0s 3ms/step - loss: 0.4319 - accuracy: 0.8123 - val_loss: 0.8812 - val_accuracy: 0.7222\n",
      "Epoch 75/100\n",
      "107/107 [==============================] - 0s 3ms/step - loss: 0.3584 - accuracy: 0.8503 - val_loss: 0.4664 - val_accuracy: 0.7963\n",
      "Epoch 76/100\n",
      "107/107 [==============================] - 0s 3ms/step - loss: 0.4655 - accuracy: 0.8006 - val_loss: 0.6717 - val_accuracy: 0.8148\n",
      "Epoch 77/100\n",
      "107/107 [==============================] - 0s 3ms/step - loss: 0.3112 - accuracy: 0.8826 - val_loss: 0.5122 - val_accuracy: 0.8148\n",
      "Epoch 78/100\n",
      "107/107 [==============================] - 0s 3ms/step - loss: 0.3811 - accuracy: 0.8302 - val_loss: 0.5314 - val_accuracy: 0.8333\n",
      "Epoch 79/100\n",
      "107/107 [==============================] - 0s 3ms/step - loss: 0.3944 - accuracy: 0.8296 - val_loss: 0.4433 - val_accuracy: 0.8148\n",
      "Epoch 80/100\n",
      "107/107 [==============================] - 0s 3ms/step - loss: 0.3705 - accuracy: 0.8207 - val_loss: 0.4916 - val_accuracy: 0.7963\n",
      "Epoch 81/100\n",
      "107/107 [==============================] - 0s 3ms/step - loss: 0.3595 - accuracy: 0.8221 - val_loss: 0.7008 - val_accuracy: 0.7963\n",
      "Epoch 82/100\n",
      "107/107 [==============================] - 0s 3ms/step - loss: 0.3391 - accuracy: 0.8748 - val_loss: 0.5568 - val_accuracy: 0.8148\n",
      "Epoch 83/100\n",
      "107/107 [==============================] - 0s 3ms/step - loss: 0.3592 - accuracy: 0.8139 - val_loss: 0.4836 - val_accuracy: 0.7963\n",
      "Epoch 84/100\n",
      "107/107 [==============================] - 0s 3ms/step - loss: 0.4171 - accuracy: 0.8372 - val_loss: 0.5707 - val_accuracy: 0.8148\n",
      "Epoch 85/100\n",
      "107/107 [==============================] - 0s 3ms/step - loss: 0.3270 - accuracy: 0.8673 - val_loss: 0.5820 - val_accuracy: 0.8333\n",
      "Epoch 86/100\n",
      "107/107 [==============================] - 0s 3ms/step - loss: 0.3478 - accuracy: 0.8469 - val_loss: 0.5028 - val_accuracy: 0.8148\n",
      "Epoch 87/100\n",
      "107/107 [==============================] - 0s 3ms/step - loss: 0.3537 - accuracy: 0.8761 - val_loss: 0.4458 - val_accuracy: 0.7593\n",
      "Epoch 88/100\n",
      "107/107 [==============================] - 0s 3ms/step - loss: 0.4645 - accuracy: 0.8080 - val_loss: 0.4946 - val_accuracy: 0.8148\n",
      "Epoch 89/100\n",
      "107/107 [==============================] - 0s 3ms/step - loss: 0.3775 - accuracy: 0.8294 - val_loss: 0.5122 - val_accuracy: 0.8148\n",
      "Epoch 90/100\n",
      "107/107 [==============================] - 0s 3ms/step - loss: 0.3201 - accuracy: 0.8768 - val_loss: 0.5696 - val_accuracy: 0.8148\n",
      "Epoch 91/100\n",
      "107/107 [==============================] - 0s 3ms/step - loss: 0.4964 - accuracy: 0.7721 - val_loss: 0.5201 - val_accuracy: 0.8148\n",
      "Epoch 92/100\n",
      "107/107 [==============================] - 0s 3ms/step - loss: 0.4199 - accuracy: 0.8034 - val_loss: 0.5226 - val_accuracy: 0.8333\n",
      "Epoch 93/100\n",
      "107/107 [==============================] - 0s 3ms/step - loss: 0.3663 - accuracy: 0.8677 - val_loss: 0.5470 - val_accuracy: 0.8148\n",
      "Epoch 94/100\n",
      "107/107 [==============================] - 0s 3ms/step - loss: 0.4215 - accuracy: 0.8385 - val_loss: 0.4973 - val_accuracy: 0.8148\n",
      "Epoch 95/100\n",
      "107/107 [==============================] - 0s 3ms/step - loss: 0.4023 - accuracy: 0.8564 - val_loss: 0.5733 - val_accuracy: 0.8333\n",
      "Epoch 96/100\n",
      "107/107 [==============================] - 0s 3ms/step - loss: 0.3884 - accuracy: 0.8446 - val_loss: 0.5736 - val_accuracy: 0.8333\n",
      "Epoch 97/100\n",
      "107/107 [==============================] - 0s 3ms/step - loss: 0.4084 - accuracy: 0.8175 - val_loss: 0.5436 - val_accuracy: 0.8148\n",
      "Epoch 98/100\n",
      "107/107 [==============================] - 0s 3ms/step - loss: 0.3690 - accuracy: 0.8232 - val_loss: 0.6074 - val_accuracy: 0.8148\n",
      "Epoch 99/100\n",
      "107/107 [==============================] - 0s 3ms/step - loss: 0.3717 - accuracy: 0.8115 - val_loss: 0.6727 - val_accuracy: 0.8148\n",
      "Epoch 100/100\n",
      "107/107 [==============================] - 0s 3ms/step - loss: 0.3547 - accuracy: 0.8831 - val_loss: 0.5947 - val_accuracy: 0.8333\n"
     ]
    }
   ],
   "source": [
    "# Train the ANN\n",
    "history = model.fit(X_train, y_train, batch_size = 2, epochs = 100, validation_split=0.2)"
   ]
  },
  {
   "cell_type": "code",
   "execution_count": 56,
   "metadata": {},
   "outputs": [
    {
     "data": {
      "image/png": "[encoded data removed]",
      "text/plain": [
       "<Figure size 432x288 with 1 Axes>"
      ]
     },
     "metadata": {
      "needs_background": "light"
     },
     "output_type": "display_data"
    },
    {
     "data": {
      "image/png": "[encoded data removed]",
      "text/plain": [
       "<Figure size 432x288 with 1 Axes>"
      ]
     },
     "metadata": {
      "needs_background": "light"
     },
     "output_type": "display_data"
    }
   ],
   "source": [
    "history_df = pd.DataFrame(history.history)\n",
    "\n",
    "plt.plot(history_df.loc[:, ['loss']], \"#CD5C5C\", label='Training loss')\n",
    "plt.plot(history_df.loc[:, ['val_loss']],\"#FF0000\", label='Validation loss')\n",
    "plt.title('Training and Validation loss')\n",
    "plt.xlabel('Epochs')\n",
    "plt.ylabel('Loss')\n",
    "plt.legend(loc=\"best\")\n",
    "\n",
    "plt.show()\n",
    "\n",
    "history_df = pd.DataFrame(history.history)\n",
    "\n",
    "plt.plot(history_df.loc[:, ['accuracy']], \"#CD5C5C\", label='Training accuracy')\n",
    "plt.plot(history_df.loc[:, ['val_accuracy']],\"#FF0000\", label='Validation accuracy')\n",
    "\n",
    "plt.title('Training and Validation accuracy')\n",
    "plt.xlabel('Epochs')\n",
    "plt.ylabel('Accuracy')\n",
    "plt.legend()\n",
    "plt.show()"
   ]
  },
  {
   "cell_type": "code",
   "execution_count": 57,
   "metadata": {},
   "outputs": [],
   "source": [
    "# Predicting the test set results\n",
    "y_pred = model.predict(X_test)\n",
    "y_pred = (y_pred > 0.4)\n",
    "\n",
    "dnn_4_acc = accuracy_score(y_pred, y_test)\n",
    "dnn_4_prec = precision_score(y_pred, y_test,average='weighted')\n",
    "dnn_4_rec = recall_score(y_pred, y_test,average='weighted')\n",
    "dnn_4_f1 = f1_score(y_pred, y_test,average='weighted')\n",
    "dnn_4_spec = specificity_score(y_pred, y_test,average='weighted')\n",
    "dnn_4_sens = sensitivity_score(y_pred, y_test,average='weighted')"
   ]
  },
  {
   "cell_type": "code",
   "execution_count": 58,
   "metadata": {},
   "outputs": [],
   "source": [
    "storeResults1('DNN - 4 Layers',dnn_4_acc,dnn_4_prec,dnn_4_rec,dnn_4_f1,dnn_4_spec,dnn_4_sens)"
   ]
  },
  {
   "cell_type": "markdown",
   "metadata": {},
   "source": [
    "# 5 Layers"
   ]
  },
  {
   "cell_type": "code",
   "execution_count": 59,
   "metadata": {},
   "outputs": [],
   "source": [
    "# Initialising the NN\n",
    "model = Sequential()\n",
    "\n",
    "# layers\n",
    "model.add(Dense(units = 128, kernel_initializer = 'uniform', activation = 'relu', input_dim = 13))\n",
    "model.add(Dense(units = 64, kernel_initializer = 'uniform', activation = 'relu'))\n",
    "model.add(Dropout(0.25))\n",
    "model.add(Dense(units = 64, kernel_initializer = 'uniform', activation = 'relu'))\n",
    "model.add(Dropout(0.5))\n",
    "model.add(Dense(units = 32, kernel_initializer = 'uniform', activation = 'relu'))\n",
    "model.add(Dropout(0.5))\n",
    "model.add(Dense(units = 32, kernel_initializer = 'uniform', activation = 'relu'))\n",
    "model.add(Dropout(0.5))\n",
    "model.add(Dense(units = 1, kernel_initializer = 'uniform', activation = 'sigmoid'))\n",
    "\n",
    "# Compiling the ANN\n",
    "model.compile(optimizer = 'adam', loss = 'binary_crossentropy', metrics = ['accuracy'])"
   ]
  },
  {
   "cell_type": "code",
   "execution_count": 60,
   "metadata": {},
   "outputs": [
    {
     "name": "stdout",
     "output_type": "stream",
     "text": [
      "Epoch 1/100\n",
      "107/107 [==============================] - 5s 13ms/step - loss: 0.6936 - accuracy: 0.4922 - val_loss: 0.6935 - val_accuracy: 0.3333\n",
      "Epoch 2/100\n",
      "107/107 [==============================] - 0s 4ms/step - loss: 0.6932 - accuracy: 0.4843 - val_loss: 0.6946 - val_accuracy: 0.3333\n",
      "Epoch 3/100\n",
      "107/107 [==============================] - 0s 3ms/step - loss: 0.6934 - accuracy: 0.5010 - val_loss: 0.7067 - val_accuracy: 0.3333\n",
      "Epoch 4/100\n",
      "107/107 [==============================] - 0s 3ms/step - loss: 0.6954 - accuracy: 0.4952 - val_loss: 0.6967 - val_accuracy: 0.3333\n",
      "Epoch 5/100\n",
      "107/107 [==============================] - 0s 3ms/step - loss: 0.6898 - accuracy: 0.5331 - val_loss: 0.6915 - val_accuracy: 0.7037\n",
      "Epoch 6/100\n",
      "107/107 [==============================] - 0s 3ms/step - loss: 0.6788 - accuracy: 0.5776 - val_loss: 0.7439 - val_accuracy: 0.5000\n",
      "Epoch 7/100\n",
      "107/107 [==============================] - 0s 3ms/step - loss: 0.6604 - accuracy: 0.6651 - val_loss: 0.8470 - val_accuracy: 0.4815\n",
      "Epoch 8/100\n",
      "107/107 [==============================] - 0s 3ms/step - loss: 0.8146 - accuracy: 0.3931 - val_loss: 0.6774 - val_accuracy: 0.6667\n",
      "Epoch 9/100\n",
      "107/107 [==============================] - 0s 4ms/step - loss: 0.6956 - accuracy: 0.4905 - val_loss: 0.6776 - val_accuracy: 0.6667\n",
      "Epoch 10/100\n",
      "107/107 [==============================] - 0s 4ms/step - loss: 0.6915 - accuracy: 0.4821 - val_loss: 0.6705 - val_accuracy: 0.6852\n",
      "Epoch 11/100\n",
      "107/107 [==============================] - 0s 3ms/step - loss: 0.6750 - accuracy: 0.5875 - val_loss: 0.6166 - val_accuracy: 0.6852\n",
      "Epoch 12/100\n",
      "107/107 [==============================] - 0s 4ms/step - loss: 0.5970 - accuracy: 0.6889 - val_loss: 0.5360 - val_accuracy: 0.7222\n",
      "Epoch 13/100\n",
      "107/107 [==============================] - 0s 4ms/step - loss: 0.5859 - accuracy: 0.7216 - val_loss: 0.6656 - val_accuracy: 0.5741\n",
      "Epoch 14/100\n",
      "107/107 [==============================] - 0s 3ms/step - loss: 0.5961 - accuracy: 0.7596 - val_loss: 0.5393 - val_accuracy: 0.7222\n",
      "Epoch 15/100\n",
      "107/107 [==============================] - 0s 4ms/step - loss: 0.4995 - accuracy: 0.7644 - val_loss: 0.6558 - val_accuracy: 0.6667\n",
      "Epoch 16/100\n",
      "107/107 [==============================] - 0s 3ms/step - loss: 0.5017 - accuracy: 0.7403 - val_loss: 0.5554 - val_accuracy: 0.7037\n",
      "Epoch 17/100\n",
      "107/107 [==============================] - 0s 3ms/step - loss: 0.5675 - accuracy: 0.7529 - val_loss: 0.5295 - val_accuracy: 0.7037\n",
      "Epoch 18/100\n",
      "107/107 [==============================] - 0s 3ms/step - loss: 0.5646 - accuracy: 0.7006 - val_loss: 0.5108 - val_accuracy: 0.7407\n",
      "Epoch 19/100\n",
      "107/107 [==============================] - 0s 3ms/step - loss: 0.5285 - accuracy: 0.7757 - val_loss: 0.5751 - val_accuracy: 0.7222\n",
      "Epoch 20/100\n",
      "107/107 [==============================] - 0s 3ms/step - loss: 0.4910 - accuracy: 0.8211 - val_loss: 0.4728 - val_accuracy: 0.7778\n",
      "Epoch 21/100\n",
      "107/107 [==============================] - 0s 4ms/step - loss: 0.5104 - accuracy: 0.7553 - val_loss: 0.4810 - val_accuracy: 0.7593\n",
      "Epoch 22/100\n",
      "107/107 [==============================] - 0s 3ms/step - loss: 0.5287 - accuracy: 0.7574 - val_loss: 0.4737 - val_accuracy: 0.7593\n",
      "Epoch 23/100\n",
      "107/107 [==============================] - 0s 3ms/step - loss: 0.4935 - accuracy: 0.7845 - val_loss: 0.4798 - val_accuracy: 0.7778\n",
      "Epoch 24/100\n",
      "107/107 [==============================] - 0s 4ms/step - loss: 0.4963 - accuracy: 0.7578 - val_loss: 0.4917 - val_accuracy: 0.7407\n",
      "Epoch 25/100\n",
      "107/107 [==============================] - 0s 3ms/step - loss: 0.5643 - accuracy: 0.7129 - val_loss: 0.4584 - val_accuracy: 0.7778\n",
      "Epoch 26/100\n",
      "107/107 [==============================] - 0s 3ms/step - loss: 0.5247 - accuracy: 0.7978 - val_loss: 0.5310 - val_accuracy: 0.7778\n",
      "Epoch 27/100\n",
      "107/107 [==============================] - 0s 3ms/step - loss: 0.4182 - accuracy: 0.8312 - val_loss: 0.4794 - val_accuracy: 0.7778\n",
      "Epoch 28/100\n",
      "107/107 [==============================] - 0s 4ms/step - loss: 0.4870 - accuracy: 0.7893 - val_loss: 0.6181 - val_accuracy: 0.7222\n",
      "Epoch 29/100\n",
      "107/107 [==============================] - 0s 3ms/step - loss: 0.4318 - accuracy: 0.8302 - val_loss: 0.4963 - val_accuracy: 0.7963\n",
      "Epoch 30/100\n",
      "107/107 [==============================] - 0s 3ms/step - loss: 0.4939 - accuracy: 0.7741 - val_loss: 0.4417 - val_accuracy: 0.7778\n",
      "Epoch 31/100\n",
      "107/107 [==============================] - 0s 3ms/step - loss: 0.4519 - accuracy: 0.8045 - val_loss: 0.6019 - val_accuracy: 0.7778\n",
      "Epoch 32/100\n",
      "107/107 [==============================] - 0s 4ms/step - loss: 0.5541 - accuracy: 0.7819 - val_loss: 0.6846 - val_accuracy: 0.7407\n",
      "Epoch 33/100\n",
      "107/107 [==============================] - 0s 3ms/step - loss: 0.3748 - accuracy: 0.8226 - val_loss: 0.4855 - val_accuracy: 0.7963\n",
      "Epoch 34/100\n",
      "107/107 [==============================] - 0s 3ms/step - loss: 0.4961 - accuracy: 0.7896 - val_loss: 0.7877 - val_accuracy: 0.7037\n",
      "Epoch 35/100\n",
      "107/107 [==============================] - 0s 4ms/step - loss: 0.4623 - accuracy: 0.8254 - val_loss: 0.5301 - val_accuracy: 0.7963\n",
      "Epoch 36/100\n",
      "107/107 [==============================] - 0s 3ms/step - loss: 0.4577 - accuracy: 0.8021 - val_loss: 0.4774 - val_accuracy: 0.8148\n",
      "Epoch 37/100\n",
      "107/107 [==============================] - 0s 3ms/step - loss: 0.3807 - accuracy: 0.8265 - val_loss: 0.4588 - val_accuracy: 0.7593\n",
      "Epoch 38/100\n",
      "107/107 [==============================] - 0s 3ms/step - loss: 0.3909 - accuracy: 0.8332 - val_loss: 0.5127 - val_accuracy: 0.7778\n",
      "Epoch 39/100\n",
      "107/107 [==============================] - 0s 3ms/step - loss: 0.4311 - accuracy: 0.7984 - val_loss: 0.4416 - val_accuracy: 0.7593\n",
      "Epoch 40/100\n",
      "107/107 [==============================] - 0s 3ms/step - loss: 0.4134 - accuracy: 0.8381 - val_loss: 0.5912 - val_accuracy: 0.7963\n",
      "Epoch 41/100\n",
      "107/107 [==============================] - 0s 4ms/step - loss: 0.4356 - accuracy: 0.7982 - val_loss: 0.4692 - val_accuracy: 0.8148\n",
      "Epoch 42/100\n",
      "107/107 [==============================] - 0s 4ms/step - loss: 0.4140 - accuracy: 0.8152 - val_loss: 0.4822 - val_accuracy: 0.8148\n",
      "Epoch 43/100\n",
      "107/107 [==============================] - 0s 3ms/step - loss: 0.4043 - accuracy: 0.8385 - val_loss: 0.7269 - val_accuracy: 0.7778\n",
      "Epoch 44/100\n",
      "107/107 [==============================] - 0s 3ms/step - loss: 0.4981 - accuracy: 0.7817 - val_loss: 0.4524 - val_accuracy: 0.7778\n",
      "Epoch 45/100\n",
      "107/107 [==============================] - 0s 3ms/step - loss: 0.4367 - accuracy: 0.7718 - val_loss: 0.4809 - val_accuracy: 0.8148\n",
      "Epoch 46/100\n",
      "107/107 [==============================] - 0s 4ms/step - loss: 0.3736 - accuracy: 0.8555 - val_loss: 0.5150 - val_accuracy: 0.8148\n",
      "Epoch 47/100\n",
      "107/107 [==============================] - 0s 3ms/step - loss: 0.4072 - accuracy: 0.8573 - val_loss: 0.8243 - val_accuracy: 0.7037\n",
      "Epoch 48/100\n",
      "107/107 [==============================] - 0s 3ms/step - loss: 0.3865 - accuracy: 0.8416 - val_loss: 0.5427 - val_accuracy: 0.7963\n",
      "Epoch 49/100\n",
      "107/107 [==============================] - 0s 3ms/step - loss: 0.3949 - accuracy: 0.8347 - val_loss: 0.8172 - val_accuracy: 0.7963\n",
      "Epoch 50/100\n",
      "107/107 [==============================] - 0s 3ms/step - loss: 0.4298 - accuracy: 0.8136 - val_loss: 0.5329 - val_accuracy: 0.7963\n",
      "Epoch 51/100\n",
      "107/107 [==============================] - 0s 3ms/step - loss: 0.4584 - accuracy: 0.7825 - val_loss: 0.7547 - val_accuracy: 0.7963\n",
      "Epoch 52/100\n",
      "107/107 [==============================] - 0s 3ms/step - loss: 0.4194 - accuracy: 0.8911 - val_loss: 0.7080 - val_accuracy: 0.7963\n",
      "Epoch 53/100\n",
      "107/107 [==============================] - 0s 3ms/step - loss: 0.5834 - accuracy: 0.8015 - val_loss: 0.5369 - val_accuracy: 0.7963\n",
      "Epoch 54/100\n",
      "107/107 [==============================] - 0s 4ms/step - loss: 0.4735 - accuracy: 0.8040 - val_loss: 0.4736 - val_accuracy: 0.7963\n",
      "Epoch 55/100\n",
      "107/107 [==============================] - 0s 3ms/step - loss: 0.4116 - accuracy: 0.8320 - val_loss: 0.5205 - val_accuracy: 0.8148\n",
      "Epoch 56/100\n",
      "107/107 [==============================] - 0s 3ms/step - loss: 0.3769 - accuracy: 0.8123 - val_loss: 0.5099 - val_accuracy: 0.7963\n",
      "Epoch 57/100\n",
      "107/107 [==============================] - 0s 3ms/step - loss: 0.5052 - accuracy: 0.7815 - val_loss: 0.6258 - val_accuracy: 0.8148\n"
     ]
    },
    {
     "name": "stdout",
     "output_type": "stream",
     "text": [
      "Epoch 58/100\n",
      "107/107 [==============================] - 0s 3ms/step - loss: 0.3662 - accuracy: 0.8653 - val_loss: 0.5090 - val_accuracy: 0.7963\n",
      "Epoch 59/100\n",
      "107/107 [==============================] - 0s 3ms/step - loss: 0.3566 - accuracy: 0.8719 - val_loss: 0.5790 - val_accuracy: 0.8148\n",
      "Epoch 60/100\n",
      "107/107 [==============================] - 0s 3ms/step - loss: 0.4567 - accuracy: 0.8275 - val_loss: 0.5462 - val_accuracy: 0.8148\n",
      "Epoch 61/100\n",
      "107/107 [==============================] - 0s 4ms/step - loss: 0.5623 - accuracy: 0.8134 - val_loss: 0.5365 - val_accuracy: 0.8148\n",
      "Epoch 62/100\n",
      "107/107 [==============================] - 0s 3ms/step - loss: 0.4476 - accuracy: 0.8097 - val_loss: 0.6525 - val_accuracy: 0.7778\n",
      "Epoch 63/100\n",
      "107/107 [==============================] - 0s 3ms/step - loss: 0.3926 - accuracy: 0.8238 - val_loss: 0.5015 - val_accuracy: 0.8148\n",
      "Epoch 64/100\n",
      "107/107 [==============================] - 0s 4ms/step - loss: 0.3985 - accuracy: 0.8233 - val_loss: 0.5312 - val_accuracy: 0.7963\n",
      "Epoch 65/100\n",
      "107/107 [==============================] - 0s 3ms/step - loss: 0.3759 - accuracy: 0.8341 - val_loss: 0.4492 - val_accuracy: 0.7778\n",
      "Epoch 66/100\n",
      "107/107 [==============================] - 0s 4ms/step - loss: 0.4713 - accuracy: 0.7962 - val_loss: 0.4574 - val_accuracy: 0.7963\n",
      "Epoch 67/100\n",
      "107/107 [==============================] - 0s 4ms/step - loss: 0.4336 - accuracy: 0.8284 - val_loss: 0.4325 - val_accuracy: 0.7963\n",
      "Epoch 68/100\n",
      "107/107 [==============================] - 0s 4ms/step - loss: 0.3934 - accuracy: 0.8498 - val_loss: 0.4637 - val_accuracy: 0.7778\n",
      "Epoch 69/100\n",
      "107/107 [==============================] - 0s 3ms/step - loss: 0.3820 - accuracy: 0.8456 - val_loss: 0.5131 - val_accuracy: 0.8148\n",
      "Epoch 70/100\n",
      "107/107 [==============================] - 0s 3ms/step - loss: 0.3490 - accuracy: 0.8427 - val_loss: 0.5203 - val_accuracy: 0.8148\n",
      "Epoch 71/100\n",
      "107/107 [==============================] - 0s 3ms/step - loss: 0.4275 - accuracy: 0.8127 - val_loss: 0.8601 - val_accuracy: 0.7778\n",
      "Epoch 72/100\n",
      "107/107 [==============================] - 0s 3ms/step - loss: 0.3817 - accuracy: 0.8444 - val_loss: 0.5208 - val_accuracy: 0.7778\n",
      "Epoch 73/100\n",
      "107/107 [==============================] - 0s 3ms/step - loss: 0.4440 - accuracy: 0.8180 - val_loss: 0.6434 - val_accuracy: 0.8148\n",
      "Epoch 74/100\n",
      "107/107 [==============================] - 0s 4ms/step - loss: 0.3279 - accuracy: 0.9181 - val_loss: 0.4700 - val_accuracy: 0.7778\n",
      "Epoch 75/100\n",
      "107/107 [==============================] - 0s 3ms/step - loss: 0.3851 - accuracy: 0.8338 - val_loss: 0.5493 - val_accuracy: 0.7963\n",
      "Epoch 76/100\n",
      "107/107 [==============================] - 0s 3ms/step - loss: 0.3953 - accuracy: 0.8176 - val_loss: 0.5442 - val_accuracy: 0.7963\n",
      "Epoch 77/100\n",
      "107/107 [==============================] - 0s 3ms/step - loss: 0.3640 - accuracy: 0.8715 - val_loss: 0.4858 - val_accuracy: 0.7963\n",
      "Epoch 78/100\n",
      "107/107 [==============================] - 0s 3ms/step - loss: 0.4270 - accuracy: 0.8196 - val_loss: 0.6867 - val_accuracy: 0.7963\n",
      "Epoch 79/100\n",
      "107/107 [==============================] - 0s 3ms/step - loss: 0.3328 - accuracy: 0.8580 - val_loss: 0.5068 - val_accuracy: 0.7963\n",
      "Epoch 80/100\n",
      "107/107 [==============================] - 0s 3ms/step - loss: 0.4362 - accuracy: 0.8058 - val_loss: 0.4444 - val_accuracy: 0.7778\n",
      "Epoch 81/100\n",
      "107/107 [==============================] - 0s 3ms/step - loss: 0.3856 - accuracy: 0.8555 - val_loss: 0.4866 - val_accuracy: 0.8148\n",
      "Epoch 82/100\n",
      "107/107 [==============================] - 0s 3ms/step - loss: 0.3956 - accuracy: 0.8275 - val_loss: 0.6991 - val_accuracy: 0.7778\n",
      "Epoch 83/100\n",
      "107/107 [==============================] - 0s 3ms/step - loss: 0.3321 - accuracy: 0.8389 - val_loss: 0.8532 - val_accuracy: 0.7037\n",
      "Epoch 84/100\n",
      "107/107 [==============================] - 0s 3ms/step - loss: 0.4023 - accuracy: 0.8124 - val_loss: 0.6729 - val_accuracy: 0.8148\n",
      "Epoch 85/100\n",
      "107/107 [==============================] - 0s 3ms/step - loss: 0.3727 - accuracy: 0.8559 - val_loss: 0.6723 - val_accuracy: 0.8148\n",
      "Epoch 86/100\n",
      "107/107 [==============================] - 0s 3ms/step - loss: 0.3980 - accuracy: 0.8534 - val_loss: 0.8048 - val_accuracy: 0.7963\n",
      "Epoch 87/100\n",
      "107/107 [==============================] - 0s 3ms/step - loss: 0.3976 - accuracy: 0.8280 - val_loss: 0.7183 - val_accuracy: 0.8148\n",
      "Epoch 88/100\n",
      "107/107 [==============================] - 0s 3ms/step - loss: 0.5097 - accuracy: 0.7739 - val_loss: 0.4726 - val_accuracy: 0.8148\n",
      "Epoch 89/100\n",
      "107/107 [==============================] - 0s 3ms/step - loss: 0.4473 - accuracy: 0.8367 - val_loss: 0.6960 - val_accuracy: 0.7778\n",
      "Epoch 90/100\n",
      "107/107 [==============================] - 0s 3ms/step - loss: 0.4125 - accuracy: 0.8601 - val_loss: 0.5354 - val_accuracy: 0.8148\n",
      "Epoch 91/100\n",
      "107/107 [==============================] - 0s 3ms/step - loss: 0.3312 - accuracy: 0.8683 - val_loss: 0.5684 - val_accuracy: 0.8148\n",
      "Epoch 92/100\n",
      "107/107 [==============================] - 0s 3ms/step - loss: 0.3917 - accuracy: 0.8386 - val_loss: 0.4924 - val_accuracy: 0.7778\n",
      "Epoch 93/100\n",
      "107/107 [==============================] - 0s 3ms/step - loss: 0.4340 - accuracy: 0.8395 - val_loss: 1.0177 - val_accuracy: 0.6667\n",
      "Epoch 94/100\n",
      "107/107 [==============================] - 0s 4ms/step - loss: 0.4299 - accuracy: 0.7809 - val_loss: 0.8186 - val_accuracy: 0.8148\n",
      "Epoch 95/100\n",
      "107/107 [==============================] - 0s 3ms/step - loss: 0.3659 - accuracy: 0.8576 - val_loss: 0.6931 - val_accuracy: 0.8148\n",
      "Epoch 96/100\n",
      "107/107 [==============================] - 0s 3ms/step - loss: 0.4292 - accuracy: 0.8219 - val_loss: 0.6794 - val_accuracy: 0.8333\n",
      "Epoch 97/100\n",
      "107/107 [==============================] - 0s 3ms/step - loss: 0.4216 - accuracy: 0.8438 - val_loss: 0.5076 - val_accuracy: 0.8148\n",
      "Epoch 98/100\n",
      "107/107 [==============================] - 0s 3ms/step - loss: 0.3714 - accuracy: 0.8437 - val_loss: 0.6839 - val_accuracy: 0.8148\n",
      "Epoch 99/100\n",
      "107/107 [==============================] - 0s 3ms/step - loss: 0.3975 - accuracy: 0.8253 - val_loss: 0.9023 - val_accuracy: 0.7778\n",
      "Epoch 100/100\n",
      "107/107 [==============================] - 0s 3ms/step - loss: 0.6479 - accuracy: 0.8032 - val_loss: 0.5481 - val_accuracy: 0.8148\n"
     ]
    }
   ],
   "source": [
    "# Train the ANN\n",
    "history = model.fit(X_train, y_train, batch_size = 2, epochs = 100, validation_split=0.2)"
   ]
  },
  {
   "cell_type": "code",
   "execution_count": 61,
   "metadata": {},
   "outputs": [
    {
     "data": {
      "image/png": "[encoded data removed]",
      "text/plain": [
       "<Figure size 432x288 with 1 Axes>"
      ]
     },
     "metadata": {
      "needs_background": "light"
     },
     "output_type": "display_data"
    },
    {
     "data": {
      "image/png": "[encoded data removed]",
      "text/plain": [
       "<Figure size 432x288 with 1 Axes>"
      ]
     },
     "metadata": {
      "needs_background": "light"
     },
     "output_type": "display_data"
    }
   ],
   "source": [
    "history_df = pd.DataFrame(history.history)\n",
    "\n",
    "plt.plot(history_df.loc[:, ['loss']], \"#CD5C5C\", label='Training loss')\n",
    "plt.plot(history_df.loc[:, ['val_loss']],\"#FF0000\", label='Validation loss')\n",
    "plt.title('Training and Validation loss')\n",
    "plt.xlabel('Epochs')\n",
    "plt.ylabel('Loss')\n",
    "plt.legend(loc=\"best\")\n",
    "\n",
    "plt.show()\n",
    "\n",
    "history_df = pd.DataFrame(history.history)\n",
    "\n",
    "plt.plot(history_df.loc[:, ['accuracy']], \"#CD5C5C\", label='Training accuracy')\n",
    "plt.plot(history_df.loc[:, ['val_accuracy']],\"#FF0000\", label='Validation accuracy')\n",
    "\n",
    "plt.title('Training and Validation accuracy')\n",
    "plt.xlabel('Epochs')\n",
    "plt.ylabel('Accuracy')\n",
    "plt.legend()\n",
    "plt.show()"
   ]
  },
  {
   "cell_type": "code",
   "execution_count": 62,
   "metadata": {},
   "outputs": [],
   "source": [
    "# Predicting the test set results\n",
    "y_pred = model.predict(X_test)\n",
    "y_pred = (y_pred > 0.4)\n",
    "\n",
    "dnn_5_acc = accuracy_score(y_pred, y_test)\n",
    "dnn_5_prec = precision_score(y_pred, y_test,average='weighted')\n",
    "dnn_5_rec = recall_score(y_pred, y_test,average='weighted')\n",
    "dnn_5_f1 = f1_score(y_pred, y_test,average='weighted')\n",
    "dnn_5_spec = specificity_score(y_pred, y_test,average='weighted')\n",
    "dnn_5_sens = sensitivity_score(y_pred, y_test,average='weighted')"
   ]
  },
  {
   "cell_type": "code",
   "execution_count": 63,
   "metadata": {},
   "outputs": [],
   "source": [
    "storeResults1('DNN - 5 Layers',dnn_5_acc,dnn_5_prec,dnn_5_rec,dnn_5_f1,dnn_5_spec,dnn_5_sens)"
   ]
  },
  {
   "cell_type": "markdown",
   "metadata": {},
   "source": [
    "# 6 Layers"
   ]
  },
  {
   "cell_type": "code",
   "execution_count": 64,
   "metadata": {},
   "outputs": [],
   "source": [
    "# Initialising the NN\n",
    "model = Sequential()\n",
    "\n",
    "# layers\n",
    "model.add(Dense(units = 128, kernel_initializer = 'uniform', activation = 'relu', input_dim = 13))\n",
    "model.add(Dense(units = 64, kernel_initializer = 'uniform', activation = 'relu'))\n",
    "model.add(Dropout(0.25))\n",
    "model.add(Dense(units = 64, kernel_initializer = 'uniform', activation = 'relu'))\n",
    "model.add(Dropout(0.5))\n",
    "model.add(Dense(units = 32, kernel_initializer = 'uniform', activation = 'relu'))\n",
    "model.add(Dropout(0.5))\n",
    "model.add(Dense(units = 32, kernel_initializer = 'uniform', activation = 'relu'))\n",
    "model.add(Dropout(0.5))\n",
    "model.add(Dense(units = 16, kernel_initializer = 'uniform', activation = 'relu'))\n",
    "model.add(Dropout(0.5))\n",
    "model.add(Dense(units = 1, kernel_initializer = 'uniform', activation = 'sigmoid'))\n",
    "\n",
    "# Compiling the ANN\n",
    "model.compile(optimizer = 'adam', loss = 'binary_crossentropy', metrics = ['accuracy'])"
   ]
  },
  {
   "cell_type": "code",
   "execution_count": 65,
   "metadata": {},
   "outputs": [
    {
     "name": "stdout",
     "output_type": "stream",
     "text": [
      "Epoch 1/100\n",
      "107/107 [==============================] - 6s 15ms/step - loss: 0.6933 - accuracy: 0.5327 - val_loss: 0.6927 - val_accuracy: 0.6667\n",
      "Epoch 2/100\n",
      "107/107 [==============================] - 0s 4ms/step - loss: 0.6932 - accuracy: 0.4659 - val_loss: 0.6964 - val_accuracy: 0.3333\n",
      "Epoch 3/100\n",
      "107/107 [==============================] - 0s 4ms/step - loss: 0.6945 - accuracy: 0.5190 - val_loss: 0.6905 - val_accuracy: 0.6667\n",
      "Epoch 4/100\n",
      "107/107 [==============================] - 0s 3ms/step - loss: 0.6934 - accuracy: 0.4595 - val_loss: 0.6891 - val_accuracy: 0.6667\n",
      "Epoch 5/100\n",
      "107/107 [==============================] - 0s 3ms/step - loss: 0.6931 - accuracy: 0.4993 - val_loss: 0.6776 - val_accuracy: 0.6667\n",
      "Epoch 6/100\n",
      "107/107 [==============================] - 0s 4ms/step - loss: 0.6905 - accuracy: 0.5555 - val_loss: 0.6934 - val_accuracy: 0.3704\n",
      "Epoch 7/100\n",
      "107/107 [==============================] - 0s 3ms/step - loss: 0.6925 - accuracy: 0.5407 - val_loss: 0.6945 - val_accuracy: 0.3333\n",
      "Epoch 8/100\n",
      "107/107 [==============================] - 0s 3ms/step - loss: 0.6941 - accuracy: 0.5397 - val_loss: 0.6985 - val_accuracy: 0.3333\n",
      "Epoch 9/100\n",
      "107/107 [==============================] - 0s 4ms/step - loss: 0.6902 - accuracy: 0.5286 - val_loss: 0.6936 - val_accuracy: 0.3704\n",
      "Epoch 10/100\n",
      "107/107 [==============================] - 0s 3ms/step - loss: 0.7104 - accuracy: 0.4022 - val_loss: 0.6974 - val_accuracy: 0.3333\n",
      "Epoch 11/100\n",
      "107/107 [==============================] - 0s 3ms/step - loss: 0.6973 - accuracy: 0.4430 - val_loss: 0.6985 - val_accuracy: 0.3333\n",
      "Epoch 12/100\n",
      "107/107 [==============================] - 0s 4ms/step - loss: 0.6924 - accuracy: 0.5402 - val_loss: 0.6977 - val_accuracy: 0.3333\n",
      "Epoch 13/100\n",
      "107/107 [==============================] - 0s 3ms/step - loss: 0.6917 - accuracy: 0.5370 - val_loss: 0.6946 - val_accuracy: 0.3333\n",
      "Epoch 14/100\n",
      "107/107 [==============================] - 0s 3ms/step - loss: 0.6905 - accuracy: 0.5174 - val_loss: 0.6839 - val_accuracy: 0.6667\n",
      "Epoch 15/100\n",
      "107/107 [==============================] - 0s 3ms/step - loss: 0.6709 - accuracy: 0.6016 - val_loss: 0.6746 - val_accuracy: 0.6667\n",
      "Epoch 16/100\n",
      "107/107 [==============================] - 0s 4ms/step - loss: 0.6865 - accuracy: 0.6040 - val_loss: 0.6615 - val_accuracy: 0.7222\n",
      "Epoch 17/100\n",
      "107/107 [==============================] - 0s 4ms/step - loss: 0.6741 - accuracy: 0.6545 - val_loss: 0.6621 - val_accuracy: 0.6667\n",
      "Epoch 18/100\n",
      "107/107 [==============================] - 0s 4ms/step - loss: 0.6358 - accuracy: 0.6968 - val_loss: 0.5603 - val_accuracy: 0.7222\n",
      "Epoch 19/100\n",
      "107/107 [==============================] - 0s 4ms/step - loss: 0.6840 - accuracy: 0.6314 - val_loss: 0.5438 - val_accuracy: 0.7407\n",
      "Epoch 20/100\n",
      "107/107 [==============================] - 0s 3ms/step - loss: 0.6146 - accuracy: 0.7055 - val_loss: 0.5645 - val_accuracy: 0.7222\n",
      "Epoch 21/100\n",
      "107/107 [==============================] - 0s 3ms/step - loss: 0.6172 - accuracy: 0.6727 - val_loss: 0.5615 - val_accuracy: 0.7407\n",
      "Epoch 22/100\n",
      "107/107 [==============================] - 0s 3ms/step - loss: 0.6735 - accuracy: 0.6305 - val_loss: 0.6947 - val_accuracy: 0.5185\n",
      "Epoch 23/100\n",
      "107/107 [==============================] - 0s 3ms/step - loss: 0.5723 - accuracy: 0.7356 - val_loss: 0.6388 - val_accuracy: 0.7407\n",
      "Epoch 24/100\n",
      "107/107 [==============================] - 0s 3ms/step - loss: 0.6288 - accuracy: 0.7154 - val_loss: 0.5877 - val_accuracy: 0.7222\n",
      "Epoch 25/100\n",
      "107/107 [==============================] - 0s 4ms/step - loss: 0.6008 - accuracy: 0.7454 - val_loss: 0.5496 - val_accuracy: 0.7222\n",
      "Epoch 26/100\n",
      "107/107 [==============================] - 0s 3ms/step - loss: 0.5666 - accuracy: 0.7611 - val_loss: 0.5307 - val_accuracy: 0.7593\n",
      "Epoch 27/100\n",
      "107/107 [==============================] - 0s 3ms/step - loss: 0.5685 - accuracy: 0.7088 - val_loss: 0.5555 - val_accuracy: 0.7222\n",
      "Epoch 28/100\n",
      "107/107 [==============================] - 0s 3ms/step - loss: 0.4859 - accuracy: 0.7514 - val_loss: 0.5483 - val_accuracy: 0.7222\n",
      "Epoch 29/100\n",
      "107/107 [==============================] - 0s 3ms/step - loss: 0.5778 - accuracy: 0.7343 - val_loss: 0.5518 - val_accuracy: 0.7222\n",
      "Epoch 30/100\n",
      "107/107 [==============================] - 0s 3ms/step - loss: 0.5217 - accuracy: 0.8189 - val_loss: 0.7086 - val_accuracy: 0.6852\n",
      "Epoch 31/100\n",
      "107/107 [==============================] - 0s 4ms/step - loss: 0.5137 - accuracy: 0.7615 - val_loss: 0.4953 - val_accuracy: 0.7407\n",
      "Epoch 32/100\n",
      "107/107 [==============================] - 0s 4ms/step - loss: 0.5359 - accuracy: 0.7665 - val_loss: 0.4964 - val_accuracy: 0.7407\n",
      "Epoch 33/100\n",
      "107/107 [==============================] - 0s 3ms/step - loss: 0.4522 - accuracy: 0.8106 - val_loss: 0.4730 - val_accuracy: 0.7778\n",
      "Epoch 34/100\n",
      "107/107 [==============================] - 0s 3ms/step - loss: 0.4147 - accuracy: 0.8201 - val_loss: 1.0328 - val_accuracy: 0.5926\n",
      "Epoch 35/100\n",
      "107/107 [==============================] - 0s 4ms/step - loss: 0.6469 - accuracy: 0.6867 - val_loss: 0.7863 - val_accuracy: 0.6852\n",
      "Epoch 36/100\n",
      "107/107 [==============================] - 0s 3ms/step - loss: 0.4709 - accuracy: 0.7636 - val_loss: 0.4621 - val_accuracy: 0.7593\n",
      "Epoch 37/100\n",
      "107/107 [==============================] - 0s 3ms/step - loss: 0.5196 - accuracy: 0.7808 - val_loss: 0.5167 - val_accuracy: 0.7778\n",
      "Epoch 38/100\n",
      "107/107 [==============================] - 0s 4ms/step - loss: 0.4395 - accuracy: 0.8172 - val_loss: 0.5207 - val_accuracy: 0.7593\n",
      "Epoch 39/100\n",
      "107/107 [==============================] - 0s 3ms/step - loss: 0.4923 - accuracy: 0.7694 - val_loss: 0.5417 - val_accuracy: 0.7593\n",
      "Epoch 40/100\n",
      "107/107 [==============================] - 0s 3ms/step - loss: 0.4820 - accuracy: 0.8146 - val_loss: 0.4668 - val_accuracy: 0.7778\n",
      "Epoch 41/100\n",
      "107/107 [==============================] - 0s 4ms/step - loss: 0.4890 - accuracy: 0.8098 - val_loss: 0.6719 - val_accuracy: 0.7037\n",
      "Epoch 42/100\n",
      "107/107 [==============================] - 0s 4ms/step - loss: 0.4517 - accuracy: 0.8059 - val_loss: 0.4541 - val_accuracy: 0.7963\n",
      "Epoch 43/100\n",
      "107/107 [==============================] - 0s 4ms/step - loss: 0.4904 - accuracy: 0.8064 - val_loss: 0.5059 - val_accuracy: 0.7593\n",
      "Epoch 44/100\n",
      "107/107 [==============================] - 0s 4ms/step - loss: 0.4943 - accuracy: 0.8383 - val_loss: 0.4887 - val_accuracy: 0.7593\n",
      "Epoch 45/100\n",
      "107/107 [==============================] - 0s 4ms/step - loss: 0.4951 - accuracy: 0.7742 - val_loss: 0.5289 - val_accuracy: 0.7963\n",
      "Epoch 46/100\n",
      "107/107 [==============================] - 0s 3ms/step - loss: 0.5923 - accuracy: 0.8031 - val_loss: 0.7488 - val_accuracy: 0.6852\n",
      "Epoch 47/100\n",
      "107/107 [==============================] - 0s 3ms/step - loss: 0.5674 - accuracy: 0.8610 - val_loss: 0.5516 - val_accuracy: 0.7778\n",
      "Epoch 48/100\n",
      "107/107 [==============================] - 0s 3ms/step - loss: 0.4249 - accuracy: 0.8237 - val_loss: 0.5560 - val_accuracy: 0.7778\n",
      "Epoch 49/100\n",
      "107/107 [==============================] - 0s 3ms/step - loss: 0.4579 - accuracy: 0.8380 - val_loss: 0.7238 - val_accuracy: 0.7407\n",
      "Epoch 50/100\n",
      "107/107 [==============================] - 0s 4ms/step - loss: 0.4611 - accuracy: 0.7630 - val_loss: 0.4151 - val_accuracy: 0.8333\n",
      "Epoch 51/100\n",
      "107/107 [==============================] - 0s 4ms/step - loss: 0.4249 - accuracy: 0.8500 - val_loss: 0.5198 - val_accuracy: 0.8148\n",
      "Epoch 52/100\n",
      "107/107 [==============================] - 0s 3ms/step - loss: 0.4438 - accuracy: 0.8431 - val_loss: 0.8735 - val_accuracy: 0.5926\n",
      "Epoch 53/100\n",
      "107/107 [==============================] - 0s 3ms/step - loss: 0.5387 - accuracy: 0.7896 - val_loss: 0.4892 - val_accuracy: 0.8148\n",
      "Epoch 54/100\n",
      "107/107 [==============================] - 0s 4ms/step - loss: 0.4277 - accuracy: 0.8377 - val_loss: 0.5742 - val_accuracy: 0.7963\n",
      "Epoch 55/100\n",
      "107/107 [==============================] - 0s 3ms/step - loss: 0.6094 - accuracy: 0.8312 - val_loss: 0.4653 - val_accuracy: 0.8333\n",
      "Epoch 56/100\n",
      "107/107 [==============================] - 0s 3ms/step - loss: 0.4647 - accuracy: 0.8006 - val_loss: 0.5166 - val_accuracy: 0.7963\n",
      "Epoch 57/100\n",
      "107/107 [==============================] - 0s 4ms/step - loss: 0.4001 - accuracy: 0.8491 - val_loss: 0.6345 - val_accuracy: 0.7778\n"
     ]
    },
    {
     "name": "stdout",
     "output_type": "stream",
     "text": [
      "Epoch 58/100\n",
      "107/107 [==============================] - 0s 3ms/step - loss: 0.4219 - accuracy: 0.8179 - val_loss: 0.5351 - val_accuracy: 0.8148\n",
      "Epoch 59/100\n",
      "107/107 [==============================] - 0s 3ms/step - loss: 0.5112 - accuracy: 0.7960 - val_loss: 0.5727 - val_accuracy: 0.8148\n",
      "Epoch 60/100\n",
      "107/107 [==============================] - 0s 4ms/step - loss: 0.4712 - accuracy: 0.7936 - val_loss: 0.5761 - val_accuracy: 0.7778\n",
      "Epoch 61/100\n",
      "107/107 [==============================] - 0s 4ms/step - loss: 0.5918 - accuracy: 0.7893 - val_loss: 0.6139 - val_accuracy: 0.7963\n",
      "Epoch 62/100\n",
      "107/107 [==============================] - 0s 3ms/step - loss: 0.4085 - accuracy: 0.8275 - val_loss: 0.4582 - val_accuracy: 0.7963\n",
      "Epoch 63/100\n",
      "107/107 [==============================] - 0s 4ms/step - loss: 0.4630 - accuracy: 0.7781 - val_loss: 0.6422 - val_accuracy: 0.7593\n",
      "Epoch 64/100\n",
      "107/107 [==============================] - 0s 4ms/step - loss: 0.4210 - accuracy: 0.8217 - val_loss: 0.4748 - val_accuracy: 0.8519\n",
      "Epoch 65/100\n",
      "107/107 [==============================] - 0s 3ms/step - loss: 0.3898 - accuracy: 0.8365 - val_loss: 0.5388 - val_accuracy: 0.8148\n",
      "Epoch 66/100\n",
      "107/107 [==============================] - 0s 4ms/step - loss: 0.4423 - accuracy: 0.8569 - val_loss: 0.5285 - val_accuracy: 0.8148\n",
      "Epoch 67/100\n",
      "107/107 [==============================] - 0s 3ms/step - loss: 0.4424 - accuracy: 0.8374 - val_loss: 0.9956 - val_accuracy: 0.6296\n",
      "Epoch 68/100\n",
      "107/107 [==============================] - 0s 3ms/step - loss: 0.4062 - accuracy: 0.8560 - val_loss: 0.5387 - val_accuracy: 0.7963\n",
      "Epoch 69/100\n",
      "107/107 [==============================] - 0s 3ms/step - loss: 0.3852 - accuracy: 0.8246 - val_loss: 0.4899 - val_accuracy: 0.7778\n",
      "Epoch 70/100\n",
      "107/107 [==============================] - 0s 4ms/step - loss: 0.3794 - accuracy: 0.8878 - val_loss: 0.5055 - val_accuracy: 0.8148\n",
      "Epoch 71/100\n",
      "107/107 [==============================] - 0s 3ms/step - loss: 0.5678 - accuracy: 0.7963 - val_loss: 0.4612 - val_accuracy: 0.7778\n",
      "Epoch 72/100\n",
      "107/107 [==============================] - 0s 3ms/step - loss: 0.5060 - accuracy: 0.8058 - val_loss: 0.5559 - val_accuracy: 0.7963\n",
      "Epoch 73/100\n",
      "107/107 [==============================] - 0s 3ms/step - loss: 0.4003 - accuracy: 0.8363 - val_loss: 0.4225 - val_accuracy: 0.7778\n",
      "Epoch 74/100\n",
      "107/107 [==============================] - 0s 4ms/step - loss: 0.4425 - accuracy: 0.8165 - val_loss: 0.6141 - val_accuracy: 0.8148\n",
      "Epoch 75/100\n",
      "107/107 [==============================] - 0s 4ms/step - loss: 0.3986 - accuracy: 0.8410 - val_loss: 0.4824 - val_accuracy: 0.7963\n",
      "Epoch 76/100\n",
      "107/107 [==============================] - 0s 4ms/step - loss: 0.4836 - accuracy: 0.8140 - val_loss: 0.9766 - val_accuracy: 0.7778\n",
      "Epoch 77/100\n",
      "107/107 [==============================] - 0s 3ms/step - loss: 0.4045 - accuracy: 0.8082 - val_loss: 0.6970 - val_accuracy: 0.8148\n",
      "Epoch 78/100\n",
      "107/107 [==============================] - 0s 4ms/step - loss: 0.4125 - accuracy: 0.8494 - val_loss: 0.5444 - val_accuracy: 0.7778\n",
      "Epoch 79/100\n",
      "107/107 [==============================] - 0s 4ms/step - loss: 0.4529 - accuracy: 0.8536 - val_loss: 0.5809 - val_accuracy: 0.8148\n",
      "Epoch 80/100\n",
      "107/107 [==============================] - 0s 3ms/step - loss: 0.3771 - accuracy: 0.8570 - val_loss: 0.4715 - val_accuracy: 0.8148\n",
      "Epoch 81/100\n",
      "107/107 [==============================] - 0s 3ms/step - loss: 0.4419 - accuracy: 0.7925 - val_loss: 0.6386 - val_accuracy: 0.7963\n",
      "Epoch 82/100\n",
      "107/107 [==============================] - 0s 4ms/step - loss: 0.5944 - accuracy: 0.8000 - val_loss: 0.6193 - val_accuracy: 0.7407\n",
      "Epoch 83/100\n",
      "107/107 [==============================] - 0s 4ms/step - loss: 0.3825 - accuracy: 0.8661 - val_loss: 0.5867 - val_accuracy: 0.8148\n",
      "Epoch 84/100\n",
      "107/107 [==============================] - 0s 3ms/step - loss: 0.4077 - accuracy: 0.8387 - val_loss: 0.4853 - val_accuracy: 0.8148\n",
      "Epoch 85/100\n",
      "107/107 [==============================] - 0s 4ms/step - loss: 0.4404 - accuracy: 0.8192 - val_loss: 0.6583 - val_accuracy: 0.8148\n",
      "Epoch 86/100\n",
      "107/107 [==============================] - 0s 3ms/step - loss: 0.4593 - accuracy: 0.8362 - val_loss: 0.4308 - val_accuracy: 0.7963\n",
      "Epoch 87/100\n",
      "107/107 [==============================] - 0s 4ms/step - loss: 0.4758 - accuracy: 0.7617 - val_loss: 0.4369 - val_accuracy: 0.7963\n",
      "Epoch 88/100\n",
      "107/107 [==============================] - 0s 4ms/step - loss: 0.4100 - accuracy: 0.8373 - val_loss: 0.5671 - val_accuracy: 0.7963\n",
      "Epoch 89/100\n",
      "107/107 [==============================] - 0s 4ms/step - loss: 0.4007 - accuracy: 0.8554 - val_loss: 0.5195 - val_accuracy: 0.8148\n",
      "Epoch 90/100\n",
      "107/107 [==============================] - 0s 3ms/step - loss: 0.4110 - accuracy: 0.8792 - val_loss: 0.5427 - val_accuracy: 0.7963\n",
      "Epoch 91/100\n",
      "107/107 [==============================] - 0s 3ms/step - loss: 0.4665 - accuracy: 0.8577 - val_loss: 0.5131 - val_accuracy: 0.8148\n",
      "Epoch 92/100\n",
      "107/107 [==============================] - 0s 3ms/step - loss: 0.3950 - accuracy: 0.8714 - val_loss: 0.4510 - val_accuracy: 0.8148\n",
      "Epoch 93/100\n",
      "107/107 [==============================] - 0s 3ms/step - loss: 0.4536 - accuracy: 0.8060 - val_loss: 0.5628 - val_accuracy: 0.8148\n",
      "Epoch 94/100\n",
      "107/107 [==============================] - 0s 4ms/step - loss: 0.4430 - accuracy: 0.8233 - val_loss: 0.4401 - val_accuracy: 0.7963\n",
      "Epoch 95/100\n",
      "107/107 [==============================] - 0s 3ms/step - loss: 0.4233 - accuracy: 0.8433 - val_loss: 0.5355 - val_accuracy: 0.7778\n",
      "Epoch 96/100\n",
      "107/107 [==============================] - 0s 4ms/step - loss: 0.5684 - accuracy: 0.7952 - val_loss: 0.6238 - val_accuracy: 0.8148\n",
      "Epoch 97/100\n",
      "107/107 [==============================] - 0s 3ms/step - loss: 0.5443 - accuracy: 0.6687 - val_loss: 0.4914 - val_accuracy: 0.7963\n",
      "Epoch 98/100\n",
      "107/107 [==============================] - 0s 4ms/step - loss: 0.4450 - accuracy: 0.8380 - val_loss: 0.6434 - val_accuracy: 0.8333\n",
      "Epoch 99/100\n",
      "107/107 [==============================] - 0s 4ms/step - loss: 0.3968 - accuracy: 0.8204 - val_loss: 0.6869 - val_accuracy: 0.8148\n",
      "Epoch 100/100\n",
      "107/107 [==============================] - 0s 3ms/step - loss: 0.3769 - accuracy: 0.8762 - val_loss: 0.6611 - val_accuracy: 0.8148\n"
     ]
    }
   ],
   "source": [
    "# Train the ANN\n",
    "history = model.fit(X_train, y_train, batch_size = 2, epochs = 100, validation_split=0.2)"
   ]
  },
  {
   "cell_type": "code",
   "execution_count": 66,
   "metadata": {},
   "outputs": [
    {
     "data": {
      "image/png": "[encoded data removed]",
      "text/plain": [
       "<Figure size 432x288 with 1 Axes>"
      ]
     },
     "metadata": {
      "needs_background": "light"
     },
     "output_type": "display_data"
    },
    {
     "data": {
      "image/png": "[encoded data removed]",
      "text/plain": [
       "<Figure size 432x288 with 1 Axes>"
      ]
     },
     "metadata": {
      "needs_background": "light"
     },
     "output_type": "display_data"
    }
   ],
   "source": [
    "history_df = pd.DataFrame(history.history)\n",
    "\n",
    "plt.plot(history_df.loc[:, ['loss']], \"#CD5C5C\", label='Training loss')\n",
    "plt.plot(history_df.loc[:, ['val_loss']],\"#FF0000\", label='Validation loss')\n",
    "plt.title('Training and Validation loss')\n",
    "plt.xlabel('Epochs')\n",
    "plt.ylabel('Loss')\n",
    "plt.legend(loc=\"best\")\n",
    "\n",
    "plt.show()\n",
    "\n",
    "history_df = pd.DataFrame(history.history)\n",
    "\n",
    "plt.plot(history_df.loc[:, ['accuracy']], \"#CD5C5C\", label='Training accuracy')\n",
    "plt.plot(history_df.loc[:, ['val_accuracy']],\"#FF0000\", label='Validation accuracy')\n",
    "\n",
    "plt.title('Training and Validation accuracy')\n",
    "plt.xlabel('Epochs')\n",
    "plt.ylabel('Accuracy')\n",
    "plt.legend()\n",
    "plt.show()"
   ]
  },
  {
   "cell_type": "code",
   "execution_count": 67,
   "metadata": {},
   "outputs": [],
   "source": [
    "# Predicting the test set results\n",
    "y_pred = model.predict(X_test)\n",
    "y_pred = (y_pred > 0.4)\n",
    "\n",
    "dnn_6_acc = accuracy_score(y_pred, y_test)\n",
    "dnn_6_prec = precision_score(y_pred, y_test,average='weighted')\n",
    "dnn_6_rec = recall_score(y_pred, y_test,average='weighted')\n",
    "dnn_6_f1 = f1_score(y_pred, y_test,average='weighted')\n",
    "dnn_6_spec = specificity_score(y_pred, y_test,average='weighted')\n",
    "dnn_6_sens = sensitivity_score(y_pred, y_test,average='weighted')"
   ]
  },
  {
   "cell_type": "code",
   "execution_count": 68,
   "metadata": {},
   "outputs": [],
   "source": [
    "storeResults1('DNN - 6 Layers',dnn_6_acc,dnn_6_prec,dnn_6_rec,dnn_6_f1,dnn_6_spec,dnn_6_sens)"
   ]
  },
  {
   "cell_type": "markdown",
   "metadata": {},
   "source": [
    "# 7 Layers"
   ]
  },
  {
   "cell_type": "code",
   "execution_count": 69,
   "metadata": {},
   "outputs": [],
   "source": [
    "# Initialising the NN\n",
    "model = Sequential()\n",
    "\n",
    "# layers\n",
    "model.add(Dense(units = 128, kernel_initializer = 'uniform', activation = 'relu', input_dim = 13))\n",
    "model.add(Dense(units = 64, kernel_initializer = 'uniform', activation = 'relu'))\n",
    "model.add(Dropout(0.25))\n",
    "model.add(Dense(units = 64, kernel_initializer = 'uniform', activation = 'relu'))\n",
    "model.add(Dropout(0.5))\n",
    "model.add(Dense(units = 32, kernel_initializer = 'uniform', activation = 'relu'))\n",
    "model.add(Dropout(0.5))\n",
    "model.add(Dense(units = 32, kernel_initializer = 'uniform', activation = 'relu'))\n",
    "model.add(Dropout(0.5))\n",
    "model.add(Dense(units = 16, kernel_initializer = 'uniform', activation = 'relu'))\n",
    "model.add(Dropout(0.5))\n",
    "model.add(Dense(units = 16, kernel_initializer = 'uniform', activation = 'relu'))\n",
    "model.add(Dropout(0.5))\n",
    "model.add(Dense(units = 1, kernel_initializer = 'uniform', activation = 'sigmoid'))\n",
    "\n",
    "# Compiling the ANN\n",
    "model.compile(optimizer = 'adam', loss = 'binary_crossentropy', metrics = ['accuracy'])"
   ]
  },
  {
   "cell_type": "code",
   "execution_count": 70,
   "metadata": {},
   "outputs": [
    {
     "name": "stdout",
     "output_type": "stream",
     "text": [
      "Epoch 1/100\n",
      "107/107 [==============================] - 6s 16ms/step - loss: 0.6933 - accuracy: 0.4358 - val_loss: 0.6934 - val_accuracy: 0.3333\n",
      "Epoch 2/100\n",
      "107/107 [==============================] - 0s 4ms/step - loss: 0.6932 - accuracy: 0.4561 - val_loss: 0.6945 - val_accuracy: 0.3333\n",
      "Epoch 3/100\n",
      "107/107 [==============================] - 0s 4ms/step - loss: 0.6932 - accuracy: 0.5142 - val_loss: 0.6943 - val_accuracy: 0.3333\n",
      "Epoch 4/100\n",
      "107/107 [==============================] - 0s 4ms/step - loss: 0.6932 - accuracy: 0.5224 - val_loss: 0.6942 - val_accuracy: 0.3333\n",
      "Epoch 5/100\n",
      "107/107 [==============================] - 0s 4ms/step - loss: 0.6930 - accuracy: 0.5400 - val_loss: 0.6945 - val_accuracy: 0.3333\n",
      "Epoch 6/100\n",
      "107/107 [==============================] - 0s 4ms/step - loss: 0.6935 - accuracy: 0.4690 - val_loss: 0.6942 - val_accuracy: 0.3333\n",
      "Epoch 7/100\n",
      "107/107 [==============================] - 0s 4ms/step - loss: 0.6930 - accuracy: 0.5380 - val_loss: 0.6944 - val_accuracy: 0.3333\n",
      "Epoch 8/100\n",
      "107/107 [==============================] - 0s 4ms/step - loss: 0.6931 - accuracy: 0.5172 - val_loss: 0.6949 - val_accuracy: 0.3333\n",
      "Epoch 9/100\n",
      "107/107 [==============================] - 0s 4ms/step - loss: 0.6928 - accuracy: 0.5365 - val_loss: 0.6955 - val_accuracy: 0.3333\n",
      "Epoch 10/100\n",
      "107/107 [==============================] - 0s 4ms/step - loss: 0.6930 - accuracy: 0.5250 - val_loss: 0.6953 - val_accuracy: 0.3333\n",
      "Epoch 11/100\n",
      "107/107 [==============================] - 0s 4ms/step - loss: 0.6928 - accuracy: 0.5364 - val_loss: 0.6956 - val_accuracy: 0.3333\n",
      "Epoch 12/100\n",
      "107/107 [==============================] - 0s 4ms/step - loss: 0.6940 - accuracy: 0.4456 - val_loss: 0.6958 - val_accuracy: 0.3333\n",
      "Epoch 13/100\n",
      "107/107 [==============================] - 0s 4ms/step - loss: 0.6926 - accuracy: 0.5415 - val_loss: 0.6956 - val_accuracy: 0.3333\n",
      "Epoch 14/100\n",
      "107/107 [==============================] - 0s 4ms/step - loss: 0.6936 - accuracy: 0.4718 - val_loss: 0.6958 - val_accuracy: 0.3333\n",
      "Epoch 15/100\n",
      "107/107 [==============================] - 0s 4ms/step - loss: 0.6922 - accuracy: 0.5642 - val_loss: 0.6962 - val_accuracy: 0.3333\n",
      "Epoch 16/100\n",
      "107/107 [==============================] - 0s 4ms/step - loss: 0.6935 - accuracy: 0.4848 - val_loss: 0.6958 - val_accuracy: 0.3333\n",
      "Epoch 17/100\n",
      "107/107 [==============================] - 0s 4ms/step - loss: 0.6923 - accuracy: 0.5675 - val_loss: 0.6963 - val_accuracy: 0.3333\n",
      "Epoch 18/100\n",
      "107/107 [==============================] - 0s 4ms/step - loss: 0.6930 - accuracy: 0.5151 - val_loss: 0.6953 - val_accuracy: 0.3333\n",
      "Epoch 19/100\n",
      "107/107 [==============================] - 0s 4ms/step - loss: 0.6931 - accuracy: 0.5118 - val_loss: 0.6965 - val_accuracy: 0.3333\n",
      "Epoch 20/100\n",
      "107/107 [==============================] - 0s 4ms/step - loss: 0.6924 - accuracy: 0.5492 - val_loss: 0.6966 - val_accuracy: 0.3333\n",
      "Epoch 21/100\n",
      "107/107 [==============================] - 0s 4ms/step - loss: 0.6928 - accuracy: 0.5228 - val_loss: 0.6962 - val_accuracy: 0.3333\n",
      "Epoch 22/100\n",
      "107/107 [==============================] - 0s 4ms/step - loss: 0.6921 - accuracy: 0.5545 - val_loss: 0.6971 - val_accuracy: 0.3333\n",
      "Epoch 23/100\n",
      "107/107 [==============================] - 0s 4ms/step - loss: 0.6926 - accuracy: 0.5283 - val_loss: 0.6962 - val_accuracy: 0.3333\n",
      "Epoch 24/100\n",
      "107/107 [==============================] - 0s 4ms/step - loss: 0.6936 - accuracy: 0.4792 - val_loss: 0.6963 - val_accuracy: 0.3333\n",
      "Epoch 25/100\n",
      "107/107 [==============================] - 0s 4ms/step - loss: 0.6941 - accuracy: 0.4536 - val_loss: 0.6961 - val_accuracy: 0.3333\n",
      "Epoch 26/100\n",
      "107/107 [==============================] - 0s 4ms/step - loss: 0.6932 - accuracy: 0.5059 - val_loss: 0.6971 - val_accuracy: 0.3333\n",
      "Epoch 27/100\n",
      "107/107 [==============================] - 0s 4ms/step - loss: 0.6941 - accuracy: 0.4605 - val_loss: 0.6968 - val_accuracy: 0.3333\n",
      "Epoch 28/100\n",
      "107/107 [==============================] - 0s 4ms/step - loss: 0.6938 - accuracy: 0.4811 - val_loss: 0.6974 - val_accuracy: 0.3333\n",
      "Epoch 29/100\n",
      "107/107 [==============================] - 0s 3ms/step - loss: 0.6943 - accuracy: 0.4621 - val_loss: 0.6968 - val_accuracy: 0.3333\n",
      "Epoch 30/100\n",
      "107/107 [==============================] - 0s 4ms/step - loss: 0.6919 - accuracy: 0.5605 - val_loss: 0.6976 - val_accuracy: 0.3333\n",
      "Epoch 31/100\n",
      "107/107 [==============================] - 0s 4ms/step - loss: 0.6929 - accuracy: 0.5155 - val_loss: 0.6966 - val_accuracy: 0.3333\n",
      "Epoch 32/100\n",
      "107/107 [==============================] - 0s 4ms/step - loss: 0.6945 - accuracy: 0.4401 - val_loss: 0.6969 - val_accuracy: 0.3333\n",
      "Epoch 33/100\n",
      "107/107 [==============================] - 0s 4ms/step - loss: 0.6935 - accuracy: 0.4917 - val_loss: 0.6972 - val_accuracy: 0.3333\n",
      "Epoch 34/100\n",
      "107/107 [==============================] - 0s 3ms/step - loss: 0.6928 - accuracy: 0.5180 - val_loss: 0.6974 - val_accuracy: 0.3333\n",
      "Epoch 35/100\n",
      "107/107 [==============================] - 0s 4ms/step - loss: 0.6929 - accuracy: 0.5144 - val_loss: 0.6964 - val_accuracy: 0.3333\n",
      "Epoch 36/100\n",
      "107/107 [==============================] - 0s 4ms/step - loss: 0.6929 - accuracy: 0.5233 - val_loss: 0.6970 - val_accuracy: 0.3333\n",
      "Epoch 37/100\n",
      "107/107 [==============================] - 0s 3ms/step - loss: 0.6932 - accuracy: 0.5052 - val_loss: 0.6974 - val_accuracy: 0.3333\n",
      "Epoch 38/100\n",
      "107/107 [==============================] - 0s 4ms/step - loss: 0.6944 - accuracy: 0.4583 - val_loss: 0.6977 - val_accuracy: 0.3333\n",
      "Epoch 39/100\n",
      "107/107 [==============================] - 0s 4ms/step - loss: 0.6922 - accuracy: 0.5406 - val_loss: 0.6973 - val_accuracy: 0.3333\n",
      "Epoch 40/100\n",
      "107/107 [==============================] - 0s 4ms/step - loss: 0.6927 - accuracy: 0.5237 - val_loss: 0.6977 - val_accuracy: 0.3333\n",
      "Epoch 41/100\n",
      "107/107 [==============================] - 0s 4ms/step - loss: 0.6927 - accuracy: 0.5205 - val_loss: 0.6980 - val_accuracy: 0.3333\n",
      "Epoch 42/100\n",
      "107/107 [==============================] - 0s 4ms/step - loss: 0.6927 - accuracy: 0.5232 - val_loss: 0.6977 - val_accuracy: 0.3333\n",
      "Epoch 43/100\n",
      "107/107 [==============================] - 0s 3ms/step - loss: 0.6932 - accuracy: 0.5022 - val_loss: 0.6977 - val_accuracy: 0.3333\n",
      "Epoch 44/100\n",
      "107/107 [==============================] - 0s 4ms/step - loss: 0.6931 - accuracy: 0.5098 - val_loss: 0.6976 - val_accuracy: 0.3333\n",
      "Epoch 45/100\n",
      "107/107 [==============================] - 0s 4ms/step - loss: 0.6929 - accuracy: 0.5181 - val_loss: 0.6984 - val_accuracy: 0.3333\n",
      "Epoch 46/100\n",
      "107/107 [==============================] - 0s 4ms/step - loss: 0.6927 - accuracy: 0.5206 - val_loss: 0.6983 - val_accuracy: 0.3333\n",
      "Epoch 47/100\n",
      "107/107 [==============================] - 0s 4ms/step - loss: 0.6936 - accuracy: 0.4901 - val_loss: 0.6984 - val_accuracy: 0.3333\n",
      "Epoch 48/100\n",
      "107/107 [==============================] - 0s 4ms/step - loss: 0.6917 - accuracy: 0.5529 - val_loss: 0.6983 - val_accuracy: 0.3333\n",
      "Epoch 49/100\n",
      "107/107 [==============================] - 0s 3ms/step - loss: 0.6940 - accuracy: 0.4798 - val_loss: 0.6980 - val_accuracy: 0.3333\n",
      "Epoch 50/100\n",
      "107/107 [==============================] - 0s 3ms/step - loss: 0.6925 - accuracy: 0.5302 - val_loss: 0.6979 - val_accuracy: 0.3333\n",
      "Epoch 51/100\n",
      "107/107 [==============================] - 0s 4ms/step - loss: 0.6939 - accuracy: 0.4793 - val_loss: 0.6981 - val_accuracy: 0.3333\n",
      "Epoch 52/100\n",
      "107/107 [==============================] - 0s 4ms/step - loss: 0.6926 - accuracy: 0.5247 - val_loss: 0.6986 - val_accuracy: 0.3333\n",
      "Epoch 53/100\n",
      "107/107 [==============================] - 0s 4ms/step - loss: 0.6931 - accuracy: 0.5055 - val_loss: 0.6980 - val_accuracy: 0.3333\n",
      "Epoch 54/100\n",
      "107/107 [==============================] - 0s 4ms/step - loss: 0.6920 - accuracy: 0.5448 - val_loss: 0.6985 - val_accuracy: 0.3333\n",
      "Epoch 55/100\n",
      "107/107 [==============================] - 0s 3ms/step - loss: 0.6935 - accuracy: 0.4915 - val_loss: 0.6978 - val_accuracy: 0.3333\n",
      "Epoch 56/100\n",
      "107/107 [==============================] - 0s 3ms/step - loss: 0.6935 - accuracy: 0.4938 - val_loss: 0.6978 - val_accuracy: 0.3333\n",
      "Epoch 57/100\n",
      "107/107 [==============================] - 0s 4ms/step - loss: 0.6939 - accuracy: 0.4781 - val_loss: 0.6983 - val_accuracy: 0.3333\n"
     ]
    },
    {
     "name": "stdout",
     "output_type": "stream",
     "text": [
      "Epoch 58/100\n",
      "107/107 [==============================] - 0s 4ms/step - loss: 0.6927 - accuracy: 0.5227 - val_loss: 0.6979 - val_accuracy: 0.3333\n",
      "Epoch 59/100\n",
      "107/107 [==============================] - 0s 4ms/step - loss: 0.6932 - accuracy: 0.5040 - val_loss: 0.6975 - val_accuracy: 0.3333\n",
      "Epoch 60/100\n",
      "107/107 [==============================] - 0s 4ms/step - loss: 0.6939 - accuracy: 0.4776 - val_loss: 0.6979 - val_accuracy: 0.3333\n",
      "Epoch 61/100\n",
      "107/107 [==============================] - 0s 4ms/step - loss: 0.6947 - accuracy: 0.4531 - val_loss: 0.6979 - val_accuracy: 0.3333\n",
      "Epoch 62/100\n",
      "107/107 [==============================] - 0s 4ms/step - loss: 0.6936 - accuracy: 0.4887 - val_loss: 0.6974 - val_accuracy: 0.3333\n",
      "Epoch 63/100\n",
      "107/107 [==============================] - 0s 4ms/step - loss: 0.6937 - accuracy: 0.4859 - val_loss: 0.6976 - val_accuracy: 0.3333\n",
      "Epoch 64/100\n",
      "107/107 [==============================] - 0s 4ms/step - loss: 0.6936 - accuracy: 0.4890 - val_loss: 0.6977 - val_accuracy: 0.3333\n",
      "Epoch 65/100\n",
      "107/107 [==============================] - 0s 4ms/step - loss: 0.6921 - accuracy: 0.5452 - val_loss: 0.6975 - val_accuracy: 0.3333\n",
      "Epoch 66/100\n",
      "107/107 [==============================] - 0s 4ms/step - loss: 0.6930 - accuracy: 0.5140 - val_loss: 0.6979 - val_accuracy: 0.3333\n",
      "Epoch 67/100\n",
      "107/107 [==============================] - 0s 4ms/step - loss: 0.6924 - accuracy: 0.5323 - val_loss: 0.6984 - val_accuracy: 0.3333\n",
      "Epoch 68/100\n",
      "107/107 [==============================] - 0s 4ms/step - loss: 0.6926 - accuracy: 0.5243 - val_loss: 0.6980 - val_accuracy: 0.3333\n",
      "Epoch 69/100\n",
      "107/107 [==============================] - 0s 4ms/step - loss: 0.6930 - accuracy: 0.5132 - val_loss: 0.6977 - val_accuracy: 0.3333\n",
      "Epoch 70/100\n",
      "107/107 [==============================] - 0s 4ms/step - loss: 0.6927 - accuracy: 0.5263 - val_loss: 0.6974 - val_accuracy: 0.3333\n",
      "Epoch 71/100\n",
      "107/107 [==============================] - 0s 3ms/step - loss: 0.6931 - accuracy: 0.5109 - val_loss: 0.6981 - val_accuracy: 0.3333\n",
      "Epoch 72/100\n",
      "107/107 [==============================] - 0s 4ms/step - loss: 0.6926 - accuracy: 0.5250 - val_loss: 0.6979 - val_accuracy: 0.3333\n",
      "Epoch 73/100\n",
      "107/107 [==============================] - 0s 4ms/step - loss: 0.6920 - accuracy: 0.5480 - val_loss: 0.6980 - val_accuracy: 0.3333\n",
      "Epoch 74/100\n",
      "107/107 [==============================] - 0s 4ms/step - loss: 0.6940 - accuracy: 0.4768 - val_loss: 0.6983 - val_accuracy: 0.3333\n",
      "Epoch 75/100\n",
      "107/107 [==============================] - 0s 4ms/step - loss: 0.6938 - accuracy: 0.4889 - val_loss: 0.6975 - val_accuracy: 0.3333\n",
      "Epoch 76/100\n",
      "107/107 [==============================] - 0s 4ms/step - loss: 0.6933 - accuracy: 0.5039 - val_loss: 0.6980 - val_accuracy: 0.3333\n",
      "Epoch 77/100\n",
      "107/107 [==============================] - 0s 4ms/step - loss: 0.6923 - accuracy: 0.5331 - val_loss: 0.6986 - val_accuracy: 0.3333\n",
      "Epoch 78/100\n",
      "107/107 [==============================] - 0s 4ms/step - loss: 0.6945 - accuracy: 0.4591 - val_loss: 0.6979 - val_accuracy: 0.3333\n",
      "Epoch 79/100\n",
      "107/107 [==============================] - 0s 4ms/step - loss: 0.6929 - accuracy: 0.5202 - val_loss: 0.6984 - val_accuracy: 0.3333\n",
      "Epoch 80/100\n",
      "107/107 [==============================] - 0s 4ms/step - loss: 0.6929 - accuracy: 0.5133 - val_loss: 0.6984 - val_accuracy: 0.3333\n",
      "Epoch 81/100\n",
      "107/107 [==============================] - 0s 4ms/step - loss: 0.6926 - accuracy: 0.5237 - val_loss: 0.6985 - val_accuracy: 0.3333\n",
      "Epoch 82/100\n",
      "107/107 [==============================] - 0s 3ms/step - loss: 0.6916 - accuracy: 0.5498 - val_loss: 0.6996 - val_accuracy: 0.3333\n",
      "Epoch 83/100\n",
      "107/107 [==============================] - 0s 4ms/step - loss: 0.6913 - accuracy: 0.5561 - val_loss: 0.6986 - val_accuracy: 0.3333\n",
      "Epoch 84/100\n",
      "107/107 [==============================] - 0s 4ms/step - loss: 0.6935 - accuracy: 0.4957 - val_loss: 0.6986 - val_accuracy: 0.3333\n",
      "Epoch 85/100\n",
      "107/107 [==============================] - 0s 4ms/step - loss: 0.6950 - accuracy: 0.4471 - val_loss: 0.6982 - val_accuracy: 0.3333\n",
      "Epoch 86/100\n",
      "107/107 [==============================] - 0s 4ms/step - loss: 0.6935 - accuracy: 0.4927 - val_loss: 0.6981 - val_accuracy: 0.3333\n",
      "Epoch 87/100\n",
      "107/107 [==============================] - 0s 4ms/step - loss: 0.6930 - accuracy: 0.5145 - val_loss: 0.6987 - val_accuracy: 0.3333\n",
      "Epoch 88/100\n",
      "107/107 [==============================] - 0s 4ms/step - loss: 0.6940 - accuracy: 0.4793 - val_loss: 0.6985 - val_accuracy: 0.3333\n",
      "Epoch 89/100\n",
      "107/107 [==============================] - 0s 4ms/step - loss: 0.6935 - accuracy: 0.4934 - val_loss: 0.6987 - val_accuracy: 0.3333\n",
      "Epoch 90/100\n",
      "107/107 [==============================] - 0s 4ms/step - loss: 0.6922 - accuracy: 0.5352 - val_loss: 0.6987 - val_accuracy: 0.3333\n",
      "Epoch 91/100\n",
      "107/107 [==============================] - 0s 4ms/step - loss: 0.6935 - accuracy: 0.4934 - val_loss: 0.6976 - val_accuracy: 0.3333\n",
      "Epoch 92/100\n",
      "107/107 [==============================] - 0s 4ms/step - loss: 0.6942 - accuracy: 0.4627 - val_loss: 0.6980 - val_accuracy: 0.3333\n",
      "Epoch 93/100\n",
      "107/107 [==============================] - 0s 4ms/step - loss: 0.6936 - accuracy: 0.4863 - val_loss: 0.6984 - val_accuracy: 0.3333\n",
      "Epoch 94/100\n",
      "107/107 [==============================] - 0s 4ms/step - loss: 0.6937 - accuracy: 0.4881 - val_loss: 0.6976 - val_accuracy: 0.3333\n",
      "Epoch 95/100\n",
      "107/107 [==============================] - 0s 4ms/step - loss: 0.6929 - accuracy: 0.5157 - val_loss: 0.6986 - val_accuracy: 0.3333\n",
      "Epoch 96/100\n",
      "107/107 [==============================] - 0s 4ms/step - loss: 0.6952 - accuracy: 0.4414 - val_loss: 0.6979 - val_accuracy: 0.3333\n",
      "Epoch 97/100\n",
      "107/107 [==============================] - 0s 4ms/step - loss: 0.6933 - accuracy: 0.5036 - val_loss: 0.6985 - val_accuracy: 0.3333\n",
      "Epoch 98/100\n",
      "107/107 [==============================] - 0s 3ms/step - loss: 0.6923 - accuracy: 0.5345 - val_loss: 0.6984 - val_accuracy: 0.3333\n",
      "Epoch 99/100\n",
      "107/107 [==============================] - 0s 3ms/step - loss: 0.6931 - accuracy: 0.5078 - val_loss: 0.6983 - val_accuracy: 0.3333\n",
      "Epoch 100/100\n",
      "107/107 [==============================] - 0s 3ms/step - loss: 0.6951 - accuracy: 0.4370 - val_loss: 0.6977 - val_accuracy: 0.3333\n"
     ]
    }
   ],
   "source": [
    "# Train the ANN\n",
    "history = model.fit(X_train, y_train, batch_size = 2, epochs = 100, validation_split=0.2)"
   ]
  },
  {
   "cell_type": "code",
   "execution_count": 71,
   "metadata": {},
   "outputs": [
    {
     "data": {
      "image/png": "[encoded data removed]",
      "text/plain": [
       "<Figure size 432x288 with 1 Axes>"
      ]
     },
     "metadata": {
      "needs_background": "light"
     },
     "output_type": "display_data"
    },
    {
     "data": {
      "image/png": "[encoded data removed]",
      "text/plain": [
       "<Figure size 432x288 with 1 Axes>"
      ]
     },
     "metadata": {
      "needs_background": "light"
     },
     "output_type": "display_data"
    }
   ],
   "source": [
    "history_df = pd.DataFrame(history.history)\n",
    "\n",
    "plt.plot(history_df.loc[:, ['loss']], \"#CD5C5C\", label='Training loss')\n",
    "plt.plot(history_df.loc[:, ['val_loss']],\"#FF0000\", label='Validation loss')\n",
    "plt.title('Training and Validation loss')\n",
    "plt.xlabel('Epochs')\n",
    "plt.ylabel('Loss')\n",
    "plt.legend(loc=\"best\")\n",
    "\n",
    "plt.show()\n",
    "\n",
    "history_df = pd.DataFrame(history.history)\n",
    "\n",
    "plt.plot(history_df.loc[:, ['accuracy']], \"#CD5C5C\", label='Training accuracy')\n",
    "plt.plot(history_df.loc[:, ['val_accuracy']],\"#FF0000\", label='Validation accuracy')\n",
    "\n",
    "plt.title('Training and Validation accuracy')\n",
    "plt.xlabel('Epochs')\n",
    "plt.ylabel('Accuracy')\n",
    "plt.legend()\n",
    "plt.show()"
   ]
  },
  {
   "cell_type": "code",
   "execution_count": null,
   "metadata": {},
   "outputs": [
    {
     "name": "stdout",
     "output_type": "stream",
     "text": [
      "WARNING:tensorflow:5 out of the last 5 calls to <function Model.make_predict_function.<locals>.predict_function at 0x0000025C38C5BF78> triggered tf.function retracing. Tracing is expensive and the excessive number of tracings could be due to (1) creating @tf.function repeatedly in a loop, (2) passing tensors with different shapes, (3) passing Python objects instead of tensors. For (1), please define your @tf.function outside of the loop. For (2), @tf.function has experimental_relax_shapes=True option that relaxes argument shapes that can avoid unnecessary retracing. For (3), please refer to https://www.tensorflow.org/guide/function#controlling_retracing and https://www.tensorflow.org/api_docs/python/tf/function for  more details.\n"
     ]
    }
   ],
   "source": [
    "# Predicting the test set results\n",
    "y_pred = model.predict(X_test)\n",
    "y_pred = (y_pred > 0.4)\n",
    "\n",
    "dnn_7_acc = accuracy_score(y_pred, y_test)\n",
    "dnn_7_prec = precision_score(y_pred, y_test,average='weighted')\n",
    "dnn_7_rec = recall_score(y_pred, y_test,average='weighted')\n",
    "dnn_7_f1 = f1_score(y_pred, y_test,average='weighted')\n",
    "dnn_7_spec = specificity_score(y_pred, y_test,average='weighted')\n",
    "dnn_7_sens = sensitivity_score(y_pred, y_test,average='weighted')"
   ]
  },
  {
   "cell_type": "code",
   "execution_count": null,
   "metadata": {},
   "outputs": [],
   "source": [
    "storeResults1('DNN - 7 Layers',dnn_7_acc,dnn_7_prec,dnn_7_rec,dnn_7_f1,dnn_7_spec,dnn_7_sens)"
   ]
  },
  {
   "cell_type": "markdown",
   "metadata": {},
   "source": [
    "# 8 Layers"
   ]
  },
  {
   "cell_type": "code",
   "execution_count": null,
   "metadata": {},
   "outputs": [],
   "source": [
    "# Initialising the NN\n",
    "model = Sequential()\n",
    "\n",
    "# layers\n",
    "model.add(Dense(units = 128, kernel_initializer = 'uniform', activation = 'relu', input_dim = 13))\n",
    "model.add(Dense(units = 64, kernel_initializer = 'uniform', activation = 'relu'))\n",
    "model.add(Dropout(0.25))\n",
    "model.add(Dense(units = 64, kernel_initializer = 'uniform', activation = 'relu'))\n",
    "model.add(Dropout(0.5))\n",
    "model.add(Dense(units = 32, kernel_initializer = 'uniform', activation = 'relu'))\n",
    "model.add(Dropout(0.5))\n",
    "model.add(Dense(units = 32, kernel_initializer = 'uniform', activation = 'relu'))\n",
    "model.add(Dropout(0.5))\n",
    "model.add(Dense(units = 16, kernel_initializer = 'uniform', activation = 'relu'))\n",
    "model.add(Dropout(0.5))\n",
    "model.add(Dense(units = 16, kernel_initializer = 'uniform', activation = 'relu'))\n",
    "model.add(Dropout(0.5))\n",
    "model.add(Dense(units = 8, kernel_initializer = 'uniform', activation = 'relu'))\n",
    "model.add(Dropout(0.5))\n",
    "model.add(Dense(units = 1, kernel_initializer = 'uniform', activation = 'sigmoid'))\n",
    "\n",
    "# Compiling the ANN\n",
    "model.compile(optimizer = 'adam', loss = 'binary_crossentropy', metrics = ['accuracy'])"
   ]
  },
  {
   "cell_type": "code",
   "execution_count": null,
   "metadata": {},
   "outputs": [],
   "source": [
    "# Train the ANN\n",
    "history = model.fit(X_train, y_train, batch_size = 2, epochs = 100, validation_split=0.2)"
   ]
  },
  {
   "cell_type": "code",
   "execution_count": null,
   "metadata": {},
   "outputs": [],
   "source": [
    "history_df = pd.DataFrame(history.history)\n",
    "\n",
    "plt.plot(history_df.loc[:, ['loss']], \"#CD5C5C\", label='Training loss')\n",
    "plt.plot(history_df.loc[:, ['val_loss']],\"#FF0000\", label='Validation loss')\n",
    "plt.title('Training and Validation loss')\n",
    "plt.xlabel('Epochs')\n",
    "plt.ylabel('Loss')\n",
    "plt.legend(loc=\"best\")\n",
    "\n",
    "plt.show()\n",
    "\n",
    "history_df = pd.DataFrame(history.history)\n",
    "\n",
    "plt.plot(history_df.loc[:, ['accuracy']], \"#CD5C5C\", label='Training accuracy')\n",
    "plt.plot(history_df.loc[:, ['val_accuracy']],\"#FF0000\", label='Validation accuracy')\n",
    "\n",
    "plt.title('Training and Validation accuracy')\n",
    "plt.xlabel('Epochs')\n",
    "plt.ylabel('Accuracy')\n",
    "plt.legend()\n",
    "plt.show()"
   ]
  },
  {
   "cell_type": "code",
   "execution_count": null,
   "metadata": {},
   "outputs": [],
   "source": [
    "# Predicting the test set results\n",
    "y_pred = model.predict(X_test)\n",
    "y_pred = (y_pred > 0.4)\n",
    "\n",
    "dnn_8_acc = accuracy_score(y_pred, y_test)\n",
    "dnn_8_prec = precision_score(y_pred, y_test,average='weighted')\n",
    "dnn_8_rec = recall_score(y_pred, y_test,average='weighted')\n",
    "dnn_8_f1 = f1_score(y_pred, y_test,average='weighted')\n",
    "dnn_8_spec = specificity_score(y_pred, y_test,average='weighted')\n",
    "dnn_8_sens = sensitivity_score(y_pred, y_test,average='weighted')"
   ]
  },
  {
   "cell_type": "code",
   "execution_count": null,
   "metadata": {},
   "outputs": [],
   "source": [
    "storeResults1('DNN - 8 Layers',dnn_8_acc,dnn_8_prec,dnn_8_rec,dnn_8_f1,dnn_8_spec,dnn_8_sens)"
   ]
  },
  {
   "cell_type": "markdown",
   "metadata": {},
   "source": [
    "# 9 Layers"
   ]
  },
  {
   "cell_type": "code",
   "execution_count": null,
   "metadata": {},
   "outputs": [],
   "source": [
    "# Initialising the NN\n",
    "model = Sequential()\n",
    "\n",
    "# layers\n",
    "model.add(Dense(units = 128, kernel_initializer = 'uniform', activation = 'relu', input_dim = 13))\n",
    "model.add(Dense(units = 64, kernel_initializer = 'uniform', activation = 'relu'))\n",
    "model.add(Dropout(0.25))\n",
    "model.add(Dense(units = 64, kernel_initializer = 'uniform', activation = 'relu'))\n",
    "model.add(Dropout(0.5))\n",
    "model.add(Dense(units = 32, kernel_initializer = 'uniform', activation = 'relu'))\n",
    "model.add(Dropout(0.5))\n",
    "model.add(Dense(units = 32, kernel_initializer = 'uniform', activation = 'relu'))\n",
    "model.add(Dropout(0.5))\n",
    "model.add(Dense(units = 16, kernel_initializer = 'uniform', activation = 'relu'))\n",
    "model.add(Dropout(0.5))\n",
    "model.add(Dense(units = 16, kernel_initializer = 'uniform', activation = 'relu'))\n",
    "model.add(Dropout(0.5))\n",
    "model.add(Dense(units = 8, kernel_initializer = 'uniform', activation = 'relu'))\n",
    "model.add(Dropout(0.5))\n",
    "model.add(Dense(units = 8, kernel_initializer = 'uniform', activation = 'relu'))\n",
    "model.add(Dropout(0.5))\n",
    "model.add(Dense(units = 1, kernel_initializer = 'uniform', activation = 'sigmoid'))\n",
    "\n",
    "# Compiling the ANN\n",
    "model.compile(optimizer = 'adam', loss = 'binary_crossentropy', metrics = ['accuracy'])"
   ]
  },
  {
   "cell_type": "code",
   "execution_count": null,
   "metadata": {},
   "outputs": [],
   "source": [
    "# Train the ANN\n",
    "history = model.fit(X_train, y_train, batch_size = 2, epochs = 100, validation_split=0.2)"
   ]
  },
  {
   "cell_type": "code",
   "execution_count": null,
   "metadata": {},
   "outputs": [],
   "source": [
    "history_df = pd.DataFrame(history.history)\n",
    "\n",
    "plt.plot(history_df.loc[:, ['loss']], \"#CD5C5C\", label='Training loss')\n",
    "plt.plot(history_df.loc[:, ['val_loss']],\"#FF0000\", label='Validation loss')\n",
    "plt.title('Training and Validation loss')\n",
    "plt.xlabel('Epochs')\n",
    "plt.ylabel('Loss')\n",
    "plt.legend(loc=\"best\")\n",
    "\n",
    "plt.show()\n",
    "\n",
    "history_df = pd.DataFrame(history.history)\n",
    "\n",
    "plt.plot(history_df.loc[:, ['accuracy']], \"#CD5C5C\", label='Training accuracy')\n",
    "plt.plot(history_df.loc[:, ['val_accuracy']],\"#FF0000\", label='Validation accuracy')\n",
    "\n",
    "plt.title('Training and Validation accuracy')\n",
    "plt.xlabel('Epochs')\n",
    "plt.ylabel('Accuracy')\n",
    "plt.legend()\n",
    "plt.show()"
   ]
  },
  {
   "cell_type": "code",
   "execution_count": null,
   "metadata": {},
   "outputs": [],
   "source": [
    "# Predicting the test set results\n",
    "y_pred = model.predict(X_test)\n",
    "y_pred = (y_pred > 0.4)\n",
    "\n",
    "dnn_9_acc = accuracy_score(y_pred, y_test)\n",
    "dnn_9_prec = precision_score(y_pred, y_test,average='weighted')\n",
    "dnn_9_rec = recall_score(y_pred, y_test,average='weighted')\n",
    "dnn_9_f1 = f1_score(y_pred, y_test,average='weighted')\n",
    "dnn_9_spec = specificity_score(y_pred, y_test,average='weighted')\n",
    "dnn_9_sens = sensitivity_score(y_pred, y_test,average='weighted')"
   ]
  },
  {
   "cell_type": "code",
   "execution_count": null,
   "metadata": {},
   "outputs": [],
   "source": [
    "storeResults1('DNN - 9 Layers',dnn_9_acc,dnn_9_prec,dnn_9_rec,dnn_9_f1,dnn_9_spec,dnn_9_sens)"
   ]
  },
  {
   "cell_type": "markdown",
   "metadata": {},
   "source": [
    "# Comparison"
   ]
  },
  {
   "cell_type": "code",
   "execution_count": null,
   "metadata": {},
   "outputs": [],
   "source": [
    "#creating dataframe\n",
    "result = pd.DataFrame({ 'ML Model' : ML_Model,\n",
    "                        'Accuracy' : accuracy,\n",
    "                       'Precision': precision,\n",
    "                       'Recall'   : recall, \n",
    "                       'F1_score' : f1score,\n",
    "                       'Specificity' : spec,\n",
    "                       'Sensitivity' : sens\n",
    "                      }) "
   ]
  },
  {
   "cell_type": "code",
   "execution_count": null,
   "metadata": {},
   "outputs": [],
   "source": [
    "result"
   ]
  },
  {
   "cell_type": "markdown",
   "metadata": {},
   "source": [
    "# Modelling"
   ]
  },
  {
   "cell_type": "code",
   "execution_count": null,
   "metadata": {},
   "outputs": [],
   "source": [
    "import joblib\n",
    "filename = 'model.sav'\n",
    "joblib.dump(eclf1, filename)"
   ]
  },
  {
   "cell_type": "code",
   "execution_count": null,
   "metadata": {},
   "outputs": [],
   "source": [
    "#creating dataframe\n",
    "result1 = pd.DataFrame({ 'ML Model' : ML_Model1,\n",
    "                        'Accuracy' : accuracy1,\n",
    "                       'Precision': precision1,\n",
    "                       'Recall'   : recall1, \n",
    "                       'F1_score' : f1score1,\n",
    "                       'Specificity' : spec1,\n",
    "                       'Sensitivity' : sens1\n",
    "                      }) "
   ]
  },
  {
   "cell_type": "code",
   "execution_count": null,
   "metadata": {},
   "outputs": [],
   "source": [
    "result1"
   ]
  },
  {
   "cell_type": "markdown",
   "metadata": {},
   "source": [
    "# Graph"
   ]
  },
  {
   "cell_type": "markdown",
   "metadata": {},
   "source": [
    "# ML"
   ]
  },
  {
   "cell_type": "code",
   "execution_count": null,
   "metadata": {},
   "outputs": [],
   "source": [
    "classifier = ML_Model\n",
    "y_pos = np.arange(len(classifier))"
   ]
  },
  {
   "cell_type": "markdown",
   "metadata": {},
   "source": [
    "# Accuracy"
   ]
  },
  {
   "cell_type": "code",
   "execution_count": null,
   "metadata": {},
   "outputs": [],
   "source": [
    "import matplotlib.pyplot as plt2\n",
    "plt2.barh(y_pos, accuracy, align='center', alpha=0.5,color='blue')\n",
    "plt2.yticks(y_pos, classifier)\n",
    "plt2.xlabel('Accuracy Score')\n",
    "plt2.title('Classification Performance')\n",
    "plt2.show()"
   ]
  },
  {
   "cell_type": "markdown",
   "metadata": {},
   "source": [
    "# Precision"
   ]
  },
  {
   "cell_type": "code",
   "execution_count": null,
   "metadata": {},
   "outputs": [],
   "source": [
    "plt2.barh(y_pos, precision, align='center', alpha=0.5,color='red')\n",
    "plt2.yticks(y_pos, classifier)\n",
    "plt2.xlabel('Precision Score')\n",
    "plt2.title('Classification Performance')\n",
    "plt2.show()"
   ]
  },
  {
   "cell_type": "markdown",
   "metadata": {},
   "source": [
    "# Recall"
   ]
  },
  {
   "cell_type": "code",
   "execution_count": null,
   "metadata": {},
   "outputs": [],
   "source": [
    "plt2.barh(y_pos, recall, align='center', alpha=0.5,color='yellow')\n",
    "plt2.yticks(y_pos, classifier)\n",
    "plt2.xlabel('Recall Score')\n",
    "plt2.title('Classification Performance')\n",
    "plt2.show()"
   ]
  },
  {
   "cell_type": "markdown",
   "metadata": {},
   "source": [
    "# F1 SCore"
   ]
  },
  {
   "cell_type": "code",
   "execution_count": null,
   "metadata": {},
   "outputs": [],
   "source": [
    "plt2.barh(y_pos, f1score, align='center', alpha=0.5,color='pink')\n",
    "plt2.yticks(y_pos, classifier)\n",
    "plt2.xlabel('F1 Score')\n",
    "plt2.title('Classification Performance')\n",
    "plt2.show()"
   ]
  },
  {
   "cell_type": "markdown",
   "metadata": {},
   "source": [
    "# Specificity"
   ]
  },
  {
   "cell_type": "code",
   "execution_count": null,
   "metadata": {},
   "outputs": [],
   "source": [
    "plt2.barh(y_pos, spec, align='center', alpha=0.5,color='brown')\n",
    "plt2.yticks(y_pos, classifier)\n",
    "plt2.xlabel('Specificity')\n",
    "plt2.title('Classification Performance')\n",
    "plt2.show()"
   ]
  },
  {
   "cell_type": "markdown",
   "metadata": {},
   "source": [
    "# Sensitivity"
   ]
  },
  {
   "cell_type": "code",
   "execution_count": null,
   "metadata": {},
   "outputs": [],
   "source": [
    "plt2.barh(y_pos, sens, align='center', alpha=0.5,color='navy')\n",
    "plt2.yticks(y_pos, classifier)\n",
    "plt2.xlabel('Sensitivity')\n",
    "plt2.title('Classification Performance')\n",
    "plt2.show()"
   ]
  },
  {
   "cell_type": "markdown",
   "metadata": {},
   "source": [
    "# DL"
   ]
  },
  {
   "cell_type": "code",
   "execution_count": null,
   "metadata": {},
   "outputs": [],
   "source": [
    "classifier = ML_Model1\n",
    "y_pos = np.arange(len(classifier))"
   ]
  },
  {
   "cell_type": "markdown",
   "metadata": {},
   "source": [
    "# ACcuracy"
   ]
  },
  {
   "cell_type": "code",
   "execution_count": null,
   "metadata": {},
   "outputs": [],
   "source": [
    "plt2.barh(y_pos, accuracy1, align='center', alpha=0.5,color='blue')\n",
    "plt2.yticks(y_pos, classifier)\n",
    "plt2.xlabel('Accuracy Score')\n",
    "plt2.title('Classification Performance')\n",
    "plt2.show()"
   ]
  },
  {
   "cell_type": "markdown",
   "metadata": {},
   "source": [
    "# Precision"
   ]
  },
  {
   "cell_type": "code",
   "execution_count": null,
   "metadata": {},
   "outputs": [],
   "source": [
    "plt2.barh(y_pos, precision1, align='center', alpha=0.5,color='red')\n",
    "plt2.yticks(y_pos, classifier)\n",
    "plt2.xlabel('Precision Score')\n",
    "plt2.title('Classification Performance')\n",
    "plt2.show()"
   ]
  },
  {
   "cell_type": "markdown",
   "metadata": {},
   "source": [
    "# Recall"
   ]
  },
  {
   "cell_type": "code",
   "execution_count": null,
   "metadata": {},
   "outputs": [],
   "source": [
    "plt2.barh(y_pos, recall1, align='center', alpha=0.5,color='yellow')\n",
    "plt2.yticks(y_pos, classifier)\n",
    "plt2.xlabel('Recall Score')\n",
    "plt2.title('Classification Performance')\n",
    "plt2.show()"
   ]
  },
  {
   "cell_type": "markdown",
   "metadata": {},
   "source": [
    "# F1 Score"
   ]
  },
  {
   "cell_type": "code",
   "execution_count": null,
   "metadata": {},
   "outputs": [],
   "source": [
    "plt2.barh(y_pos, f1score1, align='center', alpha=0.5,color='pink')\n",
    "plt2.yticks(y_pos, classifier)\n",
    "plt2.xlabel('F1 Score')\n",
    "plt2.title('Classification Performance')\n",
    "plt2.show()"
   ]
  },
  {
   "cell_type": "markdown",
   "metadata": {},
   "source": [
    "# Specificity"
   ]
  },
  {
   "cell_type": "code",
   "execution_count": null,
   "metadata": {},
   "outputs": [],
   "source": [
    "plt2.barh(y_pos, spec1, align='center', alpha=0.5,color='brown')\n",
    "plt2.yticks(y_pos, classifier)\n",
    "plt2.xlabel('Specificity')\n",
    "plt2.title('Classification Performance')\n",
    "plt2.show()"
   ]
  },
  {
   "cell_type": "markdown",
   "metadata": {},
   "source": [
    "# Sensitivity"
   ]
  },
  {
   "cell_type": "code",
   "execution_count": null,
   "metadata": {},
   "outputs": [],
   "source": [
    "plt2.barh(y_pos, sens1, align='center', alpha=0.5,color='navy')\n",
    "plt2.yticks(y_pos, classifier)\n",
    "plt2.xlabel('Sensitivity')\n",
    "plt2.title('Classification Performance')\n",
    "plt2.show()"
   ]
  },
  {
   "cell_type": "code",
   "execution_count": null,
   "metadata": {},
   "outputs": [],
   "source": []
  },
  {
   "cell_type": "code",
   "execution_count": null,
   "metadata": {},
   "outputs": [],
   "source": []
  },
  {
   "cell_type": "code",
   "execution_count": null,
   "metadata": {},
   "outputs": [],
   "source": []
  }
 ],
 "metadata": {
  "kernelspec": {
   "display_name": "Python 3",
   "language": "python",
   "name": "python3"
  },
  "language_info": {
   "codemirror_mode": {
    "name": "ipython",
    "version": 3
   },
   "file_extension": ".py",
   "mimetype": "text/x-python",
   "name": "python",
   "nbconvert_exporter": "python",
   "pygments_lexer": "ipython3",
   "version": "3.7.4"
  }
 },
 "nbformat": 4,
 "nbformat_minor": 2
}
